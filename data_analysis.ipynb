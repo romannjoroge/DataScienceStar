{
 "cells": [
  {
   "cell_type": "markdown",
   "metadata": {},
   "source": [
    "<h1>Numpy Section From Book</h1>\n",
    "<br>\n",
    "<h3>Array Creation, Indexing and Operations</h3>"
   ]
  },
  {
   "cell_type": "code",
   "execution_count": 15,
   "metadata": {},
   "outputs": [
    {
     "name": "stdout",
     "output_type": "stream",
     "text": [
      "[  0   1   4   9  16  25  36  49  64  81 100]\n"
     ]
    }
   ],
   "source": [
    "import numpy as np\n",
    "# Element wise operations\n",
    "data = np.arange(11)\n",
    "print(data * data) # Each element is multiplied by 2, this is an element wise operation not cross product\n",
    "data2 = np.arange(10)\n",
    "# print(data + data2) this won't work because the arrays don't have the same shape"
   ]
  },
  {
   "cell_type": "code",
   "execution_count": 11,
   "metadata": {},
   "outputs": [
    {
     "name": "stdout",
     "output_type": "stream",
     "text": [
      "0\n",
      "object\n",
      "{1: [0, 1, 2, 3, 4], 2: [5, 6, 7, 8, 9], 3: 'Hello'}\n"
     ]
    }
   ],
   "source": [
    "# Its possible to create numpy arrays from any sequence, so what about a dictionary? \n",
    "data = np.array({\n",
    "    1:[i for i in range(5)],\n",
    "    2: [i for i in range(5, 10)],\n",
    "    3: \"Hello\"\n",
    "})\n",
    "print(data.ndim) # 0D array? so it is just an element of an array\n",
    "print(data.dtype)\n",
    "print(data)\n",
    "# You can't create array from a dict it will just create a single array element, maybe create from a list of dicts"
   ]
  },
  {
   "cell_type": "code",
   "execution_count": 12,
   "metadata": {},
   "outputs": [
    {
     "name": "stdout",
     "output_type": "stream",
     "text": [
      "[ 1  3  5  7  9 11 13]\n",
      "[1 1 1 1 1 1 1]\n",
      "[0.532781   0.10809884 0.6862789  0.92068998 0.27868183]\n",
      "[[1. 0. 0. 0.]\n",
      " [0. 1. 0. 0.]\n",
      " [0. 0. 1. 0.]\n",
      " [0. 0. 0. 1.]]\n",
      "[[2.11312272e-316 0.00000000e+000 6.92455134e-310 6.92455134e-310]\n",
      " [6.92455135e-310 6.92455134e-310 6.92455134e-310 6.92455135e-310]\n",
      " [6.92455134e-310 6.92455134e-310 6.92455134e-310 6.92455133e-310]\n",
      " [6.92455134e-310 6.92455134e-310 6.92455133e-310 6.92455134e-310]]\n"
     ]
    }
   ],
   "source": [
    "# Methods for creating arrays - not exhaustive but a good amount\n",
    "arr1 = np.arange(1, 15, 2)\n",
    "arr2 = np.ones_like(arr1)\n",
    "arr3 = np.random.rand(5)\n",
    "arr4 = np.identity(4)\n",
    "arr5 = np.empty_like(arr4)\n",
    "print(arr1, arr2, arr3, arr4, arr5, sep='\\n')"
   ]
  },
  {
   "cell_type": "code",
   "execution_count": 13,
   "metadata": {},
   "outputs": [
    {
     "name": "stdout",
     "output_type": "stream",
     "text": [
      "Type of arr1 before change int64\n",
      "Type of arr1 after changing is uint8\n"
     ]
    }
   ],
   "source": [
    "# You can change types of numpy arrays\n",
    "print(f\"Type of arr1 before change {arr1.dtype}\")\n",
    "arr1 = arr1.astype(np.uint8)\n",
    "print(f\"Type of arr1 after changing is {arr1.dtype}\")\n",
    "# One very useful case is to convert a list of strings representing numbers into a list of numbers"
   ]
  },
  {
   "cell_type": "code",
   "execution_count": 25,
   "metadata": {},
   "outputs": [
    {
     "name": "stdout",
     "output_type": "stream",
     "text": [
      "[[5 7 1 9 9]\n",
      " [4 0 2 8 9]\n",
      " [8 3 7 4 8]]\n",
      "7\n",
      "[[5 7 1 9 9]\n",
      " [4 0 2 8 9]]\n",
      "[5 7 1 9]\n",
      "[1 8 8]\n"
     ]
    }
   ],
   "source": [
    "# Indexing arrays\n",
    "arr2D = np.random.randint(10, size=(3,5))\n",
    "print(arr2D)\n",
    "print(arr2D[-1, 2])\n",
    "# For multidimensional arrays a slice slices along the arrays in that dimension e.g\n",
    "# Perform a slice on top dimension\n",
    "print(arr2D[:-1])\n",
    "# Perform a slice on bottom dimension\n",
    "print(arr2D[0, :-1])\n",
    "\n",
    "names = np.array([\"Bob\", \"Joe\", \"Will\", \"Bob\", \"Will\", \"Joe\", \"Joe\"])\n",
    "data = np.array([[4, 7], [0, 2], [-5, 6], [0, 0], [1, 2],\n",
    "                [-12, -4], [3, 4]])\n",
    "# Suppose that each name in names is represented by a vector in data, if you want to get all the vectors that represent Bob\n",
    "# You could use a condition to index data\n",
    "bob_vectors = data[names == 'Bob'] # No need to do .copy() since it already creates a copy\n",
    "data < 0\n",
    "# If I wanted to get the values in the last diagonal I'd use lists to index\n",
    "print(arr2D[[0, 1, 2], [2, 3, 4]])"
   ]
  },
  {
   "cell_type": "markdown",
   "metadata": {},
   "source": [
    "<h3>Numpy Random Module</h3>"
   ]
  },
  {
   "cell_type": "code",
   "execution_count": 30,
   "metadata": {},
   "outputs": [
    {
     "name": "stdout",
     "output_type": "stream",
     "text": [
      "[[ 0.30471708 -1.03998411  0.7504512   0.94056472]\n",
      " [-1.95103519 -1.30217951  0.1278404  -0.31624259]\n",
      " [-0.01680116 -0.85304393  0.87939797  0.77779194]\n",
      " [ 0.0660307   1.12724121  0.46750934 -0.85929246]]\n",
      "[[7.77292394 5.31908628 9.13815586 8.158322  ]\n",
      " [8.7904387  6.77262984 9.85349012 9.46560561]\n",
      " [8.89191749 5.97319354 7.33360502 5.21901883]\n",
      " [5.77144746 8.41524477 8.72381078 9.83754866]]\n"
     ]
    }
   ],
   "source": [
    "# Can generate arrays of random values, distribution values e.t.c\n",
    "rng = np.random.default_rng(seed=42) # Used to create a random number generator with a specific seed\n",
    "arr1 = rng.standard_normal(size=(4, 4)) # Generates a 4 x 4 matrix of values following a normal distribution\n",
    "print(arr1)\n",
    "arr2 = rng.uniform(low=5, high=10, size=(4, 4))\n",
    "print(arr2)"
   ]
  },
  {
   "cell_type": "markdown",
   "metadata": {},
   "source": [
    "<h3>Universal Functions</h3>"
   ]
  },
  {
   "cell_type": "code",
   "execution_count": 35,
   "metadata": {},
   "outputs": [
    {
     "name": "stdout",
     "output_type": "stream",
     "text": [
      "[False False False False False False False False False False False False\n",
      " False False False False False False False False]\n",
      "[ 0 49 36 16 16 64  0 36  4  0 25 81 49 49 49 49 25  1 64 16]\n"
     ]
    }
   ],
   "source": [
    "# Seed random number generator\n",
    "gen = np.random.default_rng(seed=42)\n",
    "arr1 = gen.integers(0, high=10, size=(20))\n",
    "print(np.isnan(arr1))\n",
    "print(np.square(arr1))"
   ]
  },
  {
   "cell_type": "markdown",
   "metadata": {},
   "source": [
    "<h2>Array Oriented Programming</h2>"
   ]
  },
  {
   "cell_type": "code",
   "execution_count": 36,
   "metadata": {},
   "outputs": [
    {
     "name": "stdout",
     "output_type": "stream",
     "text": [
      "[[ 0  1  2  3  4  5  6  7  8  9 10]\n",
      " [ 0  1  2  3  4  5  6  7  8  9 10]\n",
      " [ 0  1  2  3  4  5  6  7  8  9 10]\n",
      " [ 0  1  2  3  4  5  6  7  8  9 10]\n",
      " [ 0  1  2  3  4  5  6  7  8  9 10]\n",
      " [ 0  1  2  3  4  5  6  7  8  9 10]\n",
      " [ 0  1  2  3  4  5  6  7  8  9 10]\n",
      " [ 0  1  2  3  4  5  6  7  8  9 10]\n",
      " [ 0  1  2  3  4  5  6  7  8  9 10]\n",
      " [ 0  1  2  3  4  5  6  7  8  9 10]\n",
      " [ 0  1  2  3  4  5  6  7  8  9 10]]\n",
      "[[ 0  0  0  0  0  0  0  0  0  0  0]\n",
      " [ 1  1  1  1  1  1  1  1  1  1  1]\n",
      " [ 2  2  2  2  2  2  2  2  2  2  2]\n",
      " [ 3  3  3  3  3  3  3  3  3  3  3]\n",
      " [ 4  4  4  4  4  4  4  4  4  4  4]\n",
      " [ 5  5  5  5  5  5  5  5  5  5  5]\n",
      " [ 6  6  6  6  6  6  6  6  6  6  6]\n",
      " [ 7  7  7  7  7  7  7  7  7  7  7]\n",
      " [ 8  8  8  8  8  8  8  8  8  8  8]\n",
      " [ 9  9  9  9  9  9  9  9  9  9  9]\n",
      " [10 10 10 10 10 10 10 10 10 10 10]]\n"
     ]
    }
   ],
   "source": [
    "# Use np.meshgrid to create 2 matrices from lists\n",
    "arr1 = np.arange(11)\n",
    "A, B = np.meshgrid(arr1, arr1)\n",
    "print(A)\n",
    "print(B)"
   ]
  },
  {
   "cell_type": "code",
   "execution_count": 39,
   "metadata": {},
   "outputs": [
    {
     "data": {
      "text/plain": [
       "array([ 0,  1,  4,  3,  8,  5, 12,  7, 16,  9, 20])"
      ]
     },
     "execution_count": 39,
     "metadata": {},
     "output_type": "execute_result"
    }
   ],
   "source": [
    "# Building arrays based on conditions\n",
    "# Python Way (alower and hard to do for multidimensional arrays)\n",
    "arr1 = [i for i in range(11)]\n",
    "arr2 = [x * 2 if x % 2 == 0 else x for x in arr1]\n",
    "# Numpy way\n",
    "arr1 = np.array(arr1)\n",
    "arr2 = np.where(arr1 % 2 == 0, arr1 * 2, arr1)\n",
    "arr2"
   ]
  },
  {
   "cell_type": "code",
   "execution_count": 43,
   "metadata": {},
   "outputs": [
    {
     "name": "stdout",
     "output_type": "stream",
     "text": [
      "[[ 1  2  3  4  5  6  7  8  9 10]\n",
      " [11 12 13 14 15 16 17 18 19 20]]\n",
      "Mean of all items is 10.5\n",
      "Mean of each row is [ 6.  7.  8.  9. 10. 11. 12. 13. 14. 15.]\n",
      "Mean of each row is [ 5.5 15.5]\n"
     ]
    }
   ],
   "source": [
    "# You can also do mathematical and statistical functions on all the data in the array or on an axis in array\n",
    "arr1 = np.reshape(np.arange(1, 21), newshape=(2, 10))\n",
    "print(arr1)\n",
    "# Get mean of all values\n",
    "print(f\"Mean of all items is {arr1.mean()}\")\n",
    "# Get a list of the means of each column\n",
    "print(f\"Mean of each row is {np.mean(arr1, axis=0)}\")\n",
    "# Get a list of the means of each row\n",
    "print(f\"Mean of each row is {np.mean(arr1, axis=1)}\")"
   ]
  },
  {
   "cell_type": "code",
   "execution_count": 51,
   "metadata": {},
   "outputs": [
    {
     "name": "stdout",
     "output_type": "stream",
     "text": [
      "[[10  9]\n",
      " [ 8  7]\n",
      " [20 19]\n",
      " [ 6  5]\n",
      " [14 13]\n",
      " [16 15]\n",
      " [12 11]\n",
      " [ 2  1]\n",
      " [18 17]\n",
      " [ 4  3]]\n",
      "[[ 9 10]\n",
      " [ 7  8]\n",
      " [19 20]\n",
      " [ 5  6]\n",
      " [13 14]\n",
      " [15 16]\n",
      " [11 12]\n",
      " [ 1  2]\n",
      " [17 18]\n",
      " [ 3  4]]\n"
     ]
    }
   ],
   "source": [
    "rng = np.random.default_rng(42)\n",
    "# Sorting\n",
    "arr1 = np.arange(20, 0, -1).reshape((10, 2))\n",
    "rng.shuffle(arr1)\n",
    "print(arr1)\n",
    "# Sort the entire arr\n",
    "arr1.sort(axis=1)\n",
    "print(arr1)"
   ]
  },
  {
   "cell_type": "code",
   "execution_count": 56,
   "metadata": {},
   "outputs": [
    {
     "name": "stdout",
     "output_type": "stream",
     "text": [
      "9\n",
      "-2\n"
     ]
    }
   ],
   "source": [
    "# Simulate a random walk using gained knowledge\n",
    "rng = np.random.default_rng(42) # Set seed\n",
    "\n",
    "# We are standing in a building with 60 floors, we go up a floor if we get heads on a coin flip and go down if we flip tails\n",
    "# Let's see the highest we can go with 100 coin flips\n",
    "no_coin_flips = 100\n",
    "# 0 will be tails and 1 will be head\n",
    "coin_flips = rng.integers(0, 2, size=no_coin_flips)\n",
    "\n",
    "initial_floor = 0\n",
    "walk = np.where(coin_flips == 1, 1, -1)\n",
    "walk = np.cumsum(walk) # Walk\n",
    "\n",
    "highest_floor = walk.max()\n",
    "print(highest_floor)\n",
    "lowest_floor = walk.min()\n",
    "print(lowest_floor)\n"
   ]
  },
  {
   "cell_type": "markdown",
   "metadata": {},
   "source": [
    "<h1>Pandas Section From Book</h1>\n",
    "<h2>Introduction</h2>"
   ]
  },
  {
   "cell_type": "code",
   "execution_count": 6,
   "metadata": {},
   "outputs": [
    {
     "name": "stdout",
     "output_type": "stream",
     "text": [
      "0    1\n",
      "1    2\n",
      "2    3\n",
      "3   -4\n",
      "4    5\n",
      "dtype: int64\n",
      "Roman    100\n",
      "Rico     100\n",
      "dtype: int64\n"
     ]
    }
   ],
   "source": [
    "from pandas import Series\n",
    "# Pandas has 2 main data structures - Series and Dataframes\n",
    "# Series - 1D array like object with the same datatype and an array of indexes\n",
    "ser1 = Series([1, 2, 3, -4, 5])\n",
    "print(ser1)\n",
    "# How to create a series with a specific index\n",
    "ser2 = Series([100, 100, 50, 75, 40], index=['Roman', 'Rico', 'Oktombo', 'Ankantele', 'Uvuvwevwevwe'])\n",
    "print(ser2[['Roman', 'Rico']])"
   ]
  },
  {
   "cell_type": "code",
   "execution_count": 17,
   "metadata": {},
   "outputs": [
    {
     "name": "stdout",
     "output_type": "stream",
     "text": [
      "0      1\n",
      "1      2\n",
      "2      3\n",
      "3      4\n",
      "4      5\n",
      "5      6\n",
      "6      7\n",
      "7      8\n",
      "8      9\n",
      "9     10\n",
      "10    11\n",
      "11    12\n",
      "12    13\n",
      "13    14\n",
      "14    15\n",
      "15    16\n",
      "16    17\n",
      "17    18\n",
      "18    19\n",
      "19    20\n",
      "dtype: int64\n",
      "[ 1  4  3 -8  5]\n"
     ]
    }
   ],
   "source": [
    "# You can still use numpy functions with Series objects\n",
    "import numpy as np\n",
    "ser3 = Series(np.arange(1, 21)) # Different ways to create 1D arrays can be used to make Series\n",
    "print(ser3)\n",
    "# Element Wise Operations\n",
    "ser4 = ser3 + 2 # Do element wise operations with scalars\n",
    "# print(ser4)\n",
    "ser5 = ser3 * ser3  # Do element wise operations with other arrays\n",
    "# print(ser5)\n",
    "ser6 = np.cumsum(ser3)\n",
    "# print(ser6)  # Use universal functions with Series\n",
    "ser7 = np.mean(ser1)\n",
    "# print(ser7) # Do array operations that don't result in an array\n",
    "# ser8 = Series(np.identity(4)) # Can't make series from multidimensional array\n",
    "arr1 = np.unique(ser1)\n",
    "# print(arr1)\n",
    "ser8 = np.where(ser1 % 2 == 0, ser1 * 2, ser1)\n",
    "print(ser8) # Returned an array"
   ]
  },
  {
   "cell_type": "code",
   "execution_count": 20,
   "metadata": {},
   "outputs": [
    {
     "name": "stdout",
     "output_type": "stream",
     "text": [
      "True\n",
      "Luffy    3000000000\n",
      "Zoro     1100000000\n",
      "Sanji    1050000000\n",
      "Jinbe    1110000000\n",
      "Robin    1000000000\n",
      "dtype: int64\n"
     ]
    },
    {
     "data": {
      "text/plain": [
       "Jinbe    1110000000\n",
       "Robin    1000000000\n",
       "Sanji    1050000000\n",
       "Luffy    3000000000\n",
       "Robin    1000000000\n",
       "dtype: int64"
      ]
     },
     "execution_count": 20,
     "metadata": {},
     "output_type": "execute_result"
    }
   ],
   "source": [
    "# Series objects can also be used like dictionaries\n",
    "from re import I\n",
    "\n",
    "\n",
    "print('Roman' in ser2)\n",
    "# Create a series from a dictionary\n",
    "ser9 = Series({'Luffy': 3_000_000_000, 'Zoro': 1_100_000_000, 'Sanji': 1_050_000_000, 'Jinbe': 1_110_000_000, 'Robin': 1_000_000_000})\n",
    "print(ser9)\n",
    "# If I wanted to make sure ser9 had values in a certain order I can pass the index parameter with the order of values I want\n",
    "ser9 = Series({'Luffy': 3_000_000_000, 'Zoro': 1_100_000_000, 'Sanji': 1_050_000_000, 'Jinbe': 1_110_000_000, 'Robin': 1_000_000_000}, index=['Jinbe', 'Robin', 'Sanji', 'Luffy', 'Robin'])\n",
    "ser9\n"
   ]
  },
  {
   "cell_type": "code",
   "execution_count": 22,
   "metadata": {},
   "outputs": [
    {
     "name": "stdout",
     "output_type": "stream",
     "text": [
      "Jinbe    False\n",
      "Robin    False\n",
      "Sanji    False\n",
      "Luffy    False\n",
      "Robin    False\n",
      "dtype: bool\n"
     ]
    }
   ],
   "source": [
    "print(np.isnan(ser9))"
   ]
  },
  {
   "cell_type": "code",
   "execution_count": 31,
   "metadata": {},
   "outputs": [
    {
     "data": {
      "text/html": [
       "<div>\n",
       "<style scoped>\n",
       "    .dataframe tbody tr th:only-of-type {\n",
       "        vertical-align: middle;\n",
       "    }\n",
       "\n",
       "    .dataframe tbody tr th {\n",
       "        vertical-align: top;\n",
       "    }\n",
       "\n",
       "    .dataframe thead th {\n",
       "        text-align: right;\n",
       "    }\n",
       "</style>\n",
       "<table border=\"1\" class=\"dataframe\">\n",
       "  <thead>\n",
       "    <tr style=\"text-align: right;\">\n",
       "      <th></th>\n",
       "      <th>bounties</th>\n",
       "    </tr>\n",
       "    <tr>\n",
       "      <th>name</th>\n",
       "      <th></th>\n",
       "    </tr>\n",
       "  </thead>\n",
       "  <tbody>\n",
       "    <tr>\n",
       "      <th>Luffy</th>\n",
       "      <td>3000000000</td>\n",
       "    </tr>\n",
       "    <tr>\n",
       "      <th>Zoro</th>\n",
       "      <td>1100000000</td>\n",
       "    </tr>\n",
       "    <tr>\n",
       "      <th>Jinbe</th>\n",
       "      <td>1110000000</td>\n",
       "    </tr>\n",
       "    <tr>\n",
       "      <th>Robin</th>\n",
       "      <td>1000000000</td>\n",
       "    </tr>\n",
       "    <tr>\n",
       "      <th>Sanji</th>\n",
       "      <td>1050000000</td>\n",
       "    </tr>\n",
       "  </tbody>\n",
       "</table>\n",
       "</div>"
      ],
      "text/plain": [
       "         bounties\n",
       "name             \n",
       "Luffy  3000000000\n",
       "Zoro   1100000000\n",
       "Jinbe  1110000000\n",
       "Robin  1000000000\n",
       "Sanji  1050000000"
      ]
     },
     "execution_count": 31,
     "metadata": {},
     "output_type": "execute_result"
    }
   ],
   "source": [
    "from pandas import DataFrame\n",
    "df1 = DataFrame({\n",
    "    'name': ['Luffy', 'Zoro', 'Jinbe', 'Robin', 'Sanji'],\n",
    "    'bounties': [3_000_000_000, 1_100_000_000, 1_110_000_000, 1_000_000_000, 1_050_000_000]\n",
    "})\n",
    "df1.set_index('name' ,inplace=True)\n",
    "df1 \n"
   ]
  }
 ],
 "metadata": {
  "kernelspec": {
   "display_name": "Python 3.8.10 ('datasciencestar': venv)",
   "language": "python",
   "name": "python3"
  },
  "language_info": {
   "codemirror_mode": {
    "name": "ipython",
    "version": 3
   },
   "file_extension": ".py",
   "mimetype": "text/x-python",
   "name": "python",
   "nbconvert_exporter": "python",
   "pygments_lexer": "ipython3",
   "version": "3.8.10"
  },
  "orig_nbformat": 4,
  "vscode": {
   "interpreter": {
    "hash": "51c9cea8a4711522a4bf8b45c200e690e948b7adecc3dbdd4ef9333c51e9d22c"
   }
  }
 },
 "nbformat": 4,
 "nbformat_minor": 2
}
