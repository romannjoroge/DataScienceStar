{
 "cells": [
  {
   "cell_type": "markdown",
   "metadata": {},
   "source": [
    "<h1>Data Loading, Storage, and File Formats</h1>\n",
    "<p>The 6th chapter of the Python for Data Analysis, 3E</p>\n",
    "<br>\n",
    "<h3>Reading and Writing Data in Text Format</h3>"
   ]
  },
  {
   "cell_type": "code",
   "execution_count": 12,
   "metadata": {},
   "outputs": [
    {
     "name": "stdout",
     "output_type": "stream",
     "text": [
      "a,b,c,d,message\n",
      "1,2,3,4,hello\n",
      "5,6,7,8,world\n",
      "9,10,11,12,foo\n",
      "   a   b   c   d message\n",
      "0  1   2   3   4   hello\n",
      "1  5   6   7   8   world\n",
      "2  9  10  11  12     foo\n",
      "1,2,3,4,hello\n",
      "5,6,7,8,world\n",
      "9,10,11,12,foo\n",
      "         a   b   c   d\n",
      "message               \n",
      "hello    1   2   3   4\n",
      "world    5   6   7   8\n",
      "foo      9  10  11  12\n",
      "            A         B         C\n",
      "aaa -0.264438 -1.026059 -0.619500\n",
      "bbb  0.927272  0.302904 -0.032399\n",
      "ccc -0.264273 -0.386314 -0.217601\n",
      "ddd -0.871858 -0.348382  1.100491\n",
      "\n",
      "            A         B         C\n",
      "aaa -0.264438 -1.026059 -0.619500\n",
      "bbb  0.927272  0.302904 -0.032399\n",
      "ccc -0.264273 -0.386314 -0.217601\n",
      "ddd -0.871858 -0.348382  1.100491\n",
      "# hey!\n",
      "a,b,c,d,message\n",
      "# just wanted to make things more difficult for you\n",
      "# who reads CSV files with computers, anyway?\n",
      "1,2,3,4,hello\n",
      "5,6,7,8,world\n",
      "9,10,11,12,foo\n",
      "         a   b   c   d\n",
      "message               \n",
      "hello    1   2   3   4\n",
      "world    5   6   7   8\n",
      "foo      9  10  11  12\n",
      "  something  a   b     c   d message\n",
      "0       one  1   2   3.0   4     NaN\n",
      "1       two  5   6   NaN   8   world\n",
      "2     three  9  10  11.0  12     foo\n"
     ]
    }
   ],
   "source": [
    "!cat pydata-book/examples/ex1.csv\n",
    "print()\n",
    "\n",
    "# How to import a CSV file\n",
    "import pandas as pd\n",
    "df1 = pd.read_csv('pydata-book/examples/ex1.csv')\n",
    "print(df1) # In this case the contents of the file are already perfect\n",
    "\n",
    "# What if the file had no column names\n",
    "!cat pydata-book/examples/ex2.csv\n",
    "print()\n",
    "df2 = pd.read_csv('pydata-book/examples/ex2.csv', header=None, names=['a', 'b', 'c', 'd', 'message'], index_col='message')\n",
    "print(df2)\n",
    "\n",
    "# What if the file has no delimeter and used something like a space to seperate values\n",
    "!cat pydata-book/examples/ex3.txt\n",
    "print()\n",
    "df3 = pd.read_csv('pydata-book/examples/ex3.txt', index_col=0, sep='\\s+')\n",
    "print(df3)\n",
    "\n",
    "# What if the first, third and fourth rows were not useful\n",
    "!cat pydata-book/examples/ex4.csv\n",
    "df4 = pd.read_csv('pydata-book/examples/ex4.csv', index_col='message', skiprows=[0, 2, 3])\n",
    "print(df4)\n",
    "\n",
    "# If data has missing values represented with a special symbol or word use the arguement na_values so that\n",
    "# np.nan can be put in place of those special symbols in the dataframe\n",
    "df5 = pd.read_csv('pydata-book/examples/ex5.csv', na_values=['NULL', 'NA'])\n",
    "print(df5)"
   ]
  },
  {
   "cell_type": "code",
   "execution_count": 13,
   "metadata": {},
   "outputs": [
    {
     "name": "stdout",
     "output_type": "stream",
     "text": [
      "        one       two     three      four key\n",
      "0  0.467976 -0.038649 -0.295344 -1.824726   L\n",
      "1 -0.358893  1.404453  0.704965 -0.200638   B\n",
      "2 -0.501840  0.659254 -0.421691 -0.057688   G\n",
      "3  0.204886  1.074134  1.388361 -0.982404   R\n",
      "4  0.354628 -0.133116  0.283763 -0.837063   Q\n",
      "E    368.0\n",
      "X    364.0\n",
      "L    346.0\n",
      "O    343.0\n",
      "Q    340.0\n",
      "M    338.0\n",
      "J    337.0\n",
      "F    335.0\n",
      "K    334.0\n",
      "H    330.0\n",
      "V    328.0\n",
      "I    327.0\n",
      "U    326.0\n",
      "P    324.0\n",
      "D    320.0\n",
      "A    320.0\n",
      "R    318.0\n",
      "Y    314.0\n",
      "G    308.0\n",
      "S    308.0\n",
      "N    306.0\n",
      "W    305.0\n",
      "T    304.0\n",
      "B    302.0\n",
      "Z    288.0\n",
      "C    286.0\n",
      "4    171.0\n",
      "6    166.0\n",
      "7    164.0\n",
      "8    162.0\n",
      "3    162.0\n",
      "5    157.0\n",
      "2    152.0\n",
      "0    151.0\n",
      "9    150.0\n",
      "1    146.0\n",
      "dtype: float64\n"
     ]
    }
   ],
   "source": [
    "# Reading text files in pieces\n",
    "# What if you only want to read n rows in the data, ignoring the header \n",
    "df6 = pd.read_csv('pydata-book/examples/ex6.csv', nrows=5)\n",
    "print(df6)\n",
    "\n",
    "# You want to read the file in chunks of x rows\n",
    "df6_iter = pd.read_csv('pydata-book/examples/ex6.csv', chunksize=1000) # Returns an iterable\n",
    "totals = pd.Series([], dtype='int64')\n",
    "for chunk in df6_iter:\n",
    "    totals = totals.add(chunk.key.value_counts(), fill_value=0)\n",
    "\n",
    "totals = totals.sort_values(ascending=False)\n",
    "print(totals)"
   ]
  },
  {
   "cell_type": "code",
   "execution_count": 16,
   "metadata": {},
   "outputs": [
    {
     "name": "stdout",
     "output_type": "stream",
     "text": [
      "  something  a   b     c   d message\n",
      "0       one  1   2   3.0   4     NaN\n",
      "1       two  5   6   NaN   8   world\n",
      "2     three  9  10  11.0  12     foo\n",
      " something a b c d message\n",
      "0 one 1 2 3.0 4 NULL\n",
      "1 two 5 6 NULL 8 world\n",
      "2 three 9 10 11.0 12 foo\n"
     ]
    }
   ],
   "source": [
    "import sys\n",
    "# Writing dataframes to an output (can be a file or the console sys.stdout)\n",
    "df5 = pd.read_csv('pydata-book/examples/ex5.csv', na_values=['NULL', 'NA'])\n",
    "print(df5)\n",
    "\n",
    "# Export using to_csv method\n",
    "df5.to_csv(sys.stdout, na_rep='NULL', sep=' ') # sep specifies seperator and na_rep specifies how to \n",
    "# represent null values in output"
   ]
  },
  {
   "cell_type": "code",
   "execution_count": 23,
   "metadata": {},
   "outputs": [
    {
     "name": "stdout",
     "output_type": "stream",
     "text": [
      "{'name': 'Wes', 'cities_lived': ['Akron', 'Nashville', 'New York', 'San Francisco'], 'pet': None, 'siblings': [{'name': 'Scott', 'age': 34, 'hobbies': ['guitars', 'soccer']}, {'name': 'Katie', 'age': 42, 'hobbies': ['diving', 'art']}]}\n",
      "{\"name\": \"Wes\", \"cities_lived\": [\"Akron\", \"Nashville\", \"New York\", \"San Francisco\"], \"pet\": null, \"siblings\": [{\"name\": \"Scott\", \"age\": 34, \"hobbies\": [\"guitars\", \"soccer\"]}, {\"name\": \"Katie\", \"age\": 42, \"hobbies\": [\"diving\", \"art\"]}]}\n",
      "    name  age\n",
      "0  Scott   34\n",
      "1  Katie   42\n",
      "   a  b  c\n",
      "0  1  2  3\n",
      "1  4  5  6\n",
      "2  7  8  9\n",
      "{\"a\":{\"0\":1,\"1\":4,\"2\":7},\"b\":{\"0\":2,\"1\":5,\"2\":8},\"c\":{\"0\":3,\"1\":6,\"2\":9}}\n"
     ]
    }
   ],
   "source": [
    "# Working with JSON in python\n",
    "import json\n",
    "obj = \"\"\"\n",
    "{\"name\": \"Wes\",\n",
    " \"cities_lived\": [\"Akron\", \"Nashville\", \"New York\", \"San Francisco\"],\n",
    " \"pet\": null,\n",
    " \"siblings\": [{\"name\": \"Scott\", \"age\": 34, \"hobbies\": [\"guitars\", \"soccer\"]},\n",
    "              {\"name\": \"Katie\", \"age\": 42, \"hobbies\": [\"diving\", \"art\"]}]\n",
    "}\n",
    "\"\"\" # A JSON string\n",
    "\n",
    "# Convert to python obj\n",
    "data = json.loads(obj)\n",
    "print(data)\n",
    "\n",
    "# Convert python obj back to JSON\n",
    "data_json = json.dumps(data)\n",
    "print(data_json)\n",
    "\n",
    "# Create a dataframe from list of JSON objects\n",
    "df = pd.DataFrame(data['siblings'], columns=['name', 'age'])\n",
    "print(df)\n",
    "\n",
    "# You can also convert JSON directly to a dataframe or series using pd.read_json\n",
    "df2 = pd.read_json('pydata-book/examples/example.json')\n",
    "print(df2)\n",
    "\n",
    "# To convert dataframe to JSON use df.to_json\n",
    "df_json = df2.to_json()\n",
    "print(df_json)"
   ]
  },
  {
   "cell_type": "code",
   "execution_count": 27,
   "metadata": {},
   "outputs": [
    {
     "name": "stdout",
     "output_type": "stream",
     "text": [
      "1\n",
      "                      Bank Name             City  ST   CERT  \\\n",
      "0                   Allied Bank         Mulberry  AR     91   \n",
      "1  The Woodbury Banking Company         Woodbury  GA  11297   \n",
      "2        First CornerStone Bank  King of Prussia  PA  35312   \n",
      "3            Trust Company Bank          Memphis  TN   9956   \n",
      "4    North Milwaukee State Bank        Milwaukee  WI  20364   \n",
      "\n",
      "                 Acquiring Institution        Closing Date       Updated Date  \n",
      "0                         Today's Bank  September 23, 2016  November 17, 2016  \n",
      "1                          United Bank     August 19, 2016  November 17, 2016  \n",
      "2  First-Citizens Bank & Trust Company         May 6, 2016  September 6, 2016  \n",
      "3           The Bank of Fayette County      April 29, 2016  September 6, 2016  \n",
      "4  First-Citizens Bank & Trust Company      March 11, 2016      June 16, 2016  \n"
     ]
    }
   ],
   "source": [
    "# Working with HTML\n",
    "tables = pd.read_html('pydata-book/examples/fdic_failed_bank_list.html')\n",
    "print(len(tables))\n",
    "print(tables[0].head())"
   ]
  }
 ],
 "metadata": {
  "kernelspec": {
   "display_name": "Python 3.8.10 ('datasciencestar': venv)",
   "language": "python",
   "name": "python3"
  },
  "language_info": {
   "codemirror_mode": {
    "name": "ipython",
    "version": 3
   },
   "file_extension": ".py",
   "mimetype": "text/x-python",
   "name": "python",
   "nbconvert_exporter": "python",
   "pygments_lexer": "ipython3",
   "version": "3.8.10"
  },
  "orig_nbformat": 4,
  "vscode": {
   "interpreter": {
    "hash": "51c9cea8a4711522a4bf8b45c200e690e948b7adecc3dbdd4ef9333c51e9d22c"
   }
  }
 },
 "nbformat": 4,
 "nbformat_minor": 2
}
