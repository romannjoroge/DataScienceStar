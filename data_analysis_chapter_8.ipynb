{
 "cells": [
  {
   "cell_type": "code",
   "execution_count": 1,
   "metadata": {},
   "outputs": [
    {
     "name": "stdout",
     "output_type": "stream",
     "text": [
      "a  1    0.773956\n",
      "   2    0.438878\n",
      "   3    0.858598\n",
      "b  1    0.697368\n",
      "   2    0.094177\n",
      "c  1    0.975622\n",
      "   2    0.761140\n",
      "d  1    0.786064\n",
      "   2    0.128114\n",
      "dtype: float64\n"
     ]
    }
   ],
   "source": [
    "import pandas as pd\n",
    "import numpy as np\n",
    "\n",
    "gen = np.random.default_rng(42)\n",
    "\n",
    "# Hierarichal Indexing\n",
    "data = pd.Series(gen.uniform(size=9),\n",
    "                index=[['a', 'a', 'a', 'b', 'b', 'c', 'c', 'd', 'd'], \n",
    "                        [1, 2, 3, 1, 2, 1, 2, 1, 2]])\n",
    "print(data)"
   ]
  },
  {
   "cell_type": "code",
   "execution_count": 4,
   "metadata": {},
   "outputs": [
    {
     "name": "stdout",
     "output_type": "stream",
     "text": [
      "1    0.773956\n",
      "2    0.438878\n",
      "3    0.858598\n",
      "dtype: float64\n",
      "a  1    0.773956\n",
      "   2    0.438878\n",
      "   3    0.858598\n",
      "b  1    0.697368\n",
      "   2    0.094177\n",
      "c  1    0.975622\n",
      "   2    0.761140\n",
      "dtype: float64\n",
      "          1         2         3\n",
      "a  0.773956  0.438878  0.858598\n",
      "b  0.697368  0.094177       NaN\n",
      "c  0.975622  0.761140       NaN\n",
      "d  0.786064  0.128114       NaN\n"
     ]
    }
   ],
   "source": [
    "# Partial Indexing - index to get a lower dimension\n",
    "# Get the dataframe in a\n",
    "print(data['a'])\n",
    "\n",
    "# Get the dataframes in a to c\n",
    "print(data['a':'c'])\n",
    "\n",
    "# To convert this series to a dataframe use unstack method\n",
    "data_df = data.unstack()\n",
    "print(data_df)\n",
    "\n",
    "# Convert dataframe to such a series using stack method"
   ]
  },
  {
   "cell_type": "code",
   "execution_count": 7,
   "metadata": {},
   "outputs": [
    {
     "name": "stdout",
     "output_type": "stream",
     "text": [
      "     Ohio     Colorado\n",
      "    Green Red    Green\n",
      "a 1     0   1        2\n",
      "  2     3   4        5\n",
      "b 1     6   7        8\n",
      "  2     9  10       11\n",
      "state      Ohio     Colorado\n",
      "color     Green Red    Green\n",
      "key1 key2                   \n",
      "a    1        0   1        2\n",
      "     2        3   4        5\n",
      "b    1        6   7        8\n",
      "     2        9  10       11\n"
     ]
    }
   ],
   "source": [
    "# Hierarichal indexes with dataframes\n",
    "frame = pd.DataFrame(np.arange(12).reshape(4, 3), \n",
    "                    index=[['a', 'a', 'b', 'b'], # top index\n",
    "                            [1, 2, 1, 2]], # lower index\n",
    "                    columns=[['Ohio', 'Ohio', 'Colorado'], # top index\n",
    "                            ['Green', 'Red', 'Green']]) # lower index\n",
    "print(frame)\n",
    "\n",
    "# To name the top and lower index of each axis:\n",
    "frame.index.names = ['key1', 'key2'] # [top, lower]\n",
    "frame.columns.names = ['state', 'color']\n",
    "print(frame)"
   ]
  },
  {
   "cell_type": "code",
   "execution_count": 9,
   "metadata": {},
   "outputs": [
    {
     "name": "stdout",
     "output_type": "stream",
     "text": [
      "color      Green  Red\n",
      "key1 key2            \n",
      "a    1         0    1\n",
      "     2         3    4\n",
      "b    1         6    7\n",
      "     2         9   10\n",
      "state  Ohio     Colorado\n",
      "color Green Red    Green\n",
      "key2                    \n",
      "1         0   1        2\n",
      "2         3   4        5\n"
     ]
    }
   ],
   "source": [
    "# Partial indexing in dataframe\n",
    "# Get the dataframe in Ohio column\n",
    "print(frame.loc[:, 'Ohio'])\n",
    "\n",
    "# Get the dataframe in row a\n",
    "print(frame.loc['a'])"
   ]
  },
  {
   "cell_type": "code",
   "execution_count": 16,
   "metadata": {},
   "outputs": [
    {
     "name": "stdout",
     "output_type": "stream",
     "text": [
      "  key  data1  data2\n",
      "0   b      0      1\n",
      "1   b      0      3\n",
      "2   b      1      1\n",
      "3   b      1      3\n",
      "4   b      6      1\n",
      "5   b      6      3\n",
      "6   a      2      0\n",
      "7   a      4      0\n",
      "8   a      5      0\n",
      "  lkey  data1 rkey  data2\n",
      "0    b      0    b      1\n",
      "1    b      1    b      1\n",
      "2    b      6    b      1\n",
      "3    a      2    a      0\n",
      "4    a      4    a      0\n",
      "5    a      5    a      0\n"
     ]
    }
   ],
   "source": [
    "# JOINING DATAFRAMES IN PANDAS\n",
    "\n",
    "# To performa an SQL join on dataframes we use the pd.merge() function\n",
    "\n",
    "df1 = pd.DataFrame({\n",
    "    'key': ['b', 'b', 'a', 'c', 'a', 'a', 'b'],\n",
    "    'data1': pd.Series(range(7), dtype='Int64')\n",
    "})\n",
    "df2 = pd.DataFrame({\n",
    "    'key': ['a', 'b', 'd', 'b'],\n",
    "    'data2': pd.Series(range(4), dtype='Int64')\n",
    "})\n",
    "\n",
    "# pd.merge with no arguments\n",
    "# print(pd.merge(df1, df2)) # Did the join on the common column and selected only common values in that column\n",
    "\n",
    "# If you want to specify the column to join on add on parameter\n",
    "print(pd.merge(df1, df2, on='key'))\n",
    "\n",
    "# If you want to join on columns that have different column names specify left_on and right_on\n",
    "df3 = pd.DataFrame({\n",
    "    'lkey': list('bbacaab'),\n",
    "    'data1': pd.Series(range(7), dtype='Int64')\n",
    "})\n",
    "\n",
    "df4 = pd.DataFrame({\n",
    "    'rkey': list('abd'),\n",
    "    'data2': pd.Series(range(3), dtype='Int64')\n",
    "})\n",
    "print(pd.merge(df3, df4, left_on='lkey', right_on='rkey'))"
   ]
  },
  {
   "cell_type": "markdown",
   "metadata": {},
   "source": [
    "<h2>Concatenation</h2>\n",
    "<p>Allows you to stack tables along an axis</p>"
   ]
  }
 ],
 "metadata": {
  "kernelspec": {
   "display_name": "Python 3.8.10 ('datasciencestar': venv)",
   "language": "python",
   "name": "python3"
  },
  "language_info": {
   "codemirror_mode": {
    "name": "ipython",
    "version": 3
   },
   "file_extension": ".py",
   "mimetype": "text/x-python",
   "name": "python",
   "nbconvert_exporter": "python",
   "pygments_lexer": "ipython3",
   "version": "3.8.10"
  },
  "orig_nbformat": 4,
  "vscode": {
   "interpreter": {
    "hash": "51c9cea8a4711522a4bf8b45c200e690e948b7adecc3dbdd4ef9333c51e9d22c"
   }
  }
 },
 "nbformat": 4,
 "nbformat_minor": 2
}
