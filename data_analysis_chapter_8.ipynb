{
 "cells": [
  {
   "cell_type": "code",
   "execution_count": 2,
   "metadata": {},
   "outputs": [
    {
     "name": "stdout",
     "output_type": "stream",
     "text": [
      "a  1    0.773956\n",
      "   2    0.438878\n",
      "   3    0.858598\n",
      "b  1    0.697368\n",
      "   2    0.094177\n",
      "c  1    0.975622\n",
      "   2    0.761140\n",
      "d  1    0.786064\n",
      "   2    0.128114\n",
      "dtype: float64\n"
     ]
    }
   ],
   "source": [
    "import pandas as pd\n",
    "import numpy as np\n",
    "\n",
    "gen = np.random.default_rng(42)\n",
    "\n",
    "# Hierarichal Indexing\n",
    "data = pd.Series(gen.uniform(size=9),\n",
    "                index=[['a', 'a', 'a', 'b', 'b', 'c', 'c', 'd', 'd'], \n",
    "                        [1, 2, 3, 1, 2, 1, 2, 1, 2]])\n",
    "print(data)"
   ]
  },
  {
   "cell_type": "code",
   "execution_count": 3,
   "metadata": {},
   "outputs": [
    {
     "name": "stdout",
     "output_type": "stream",
     "text": [
      "1    0.773956\n",
      "2    0.438878\n",
      "3    0.858598\n",
      "dtype: float64\n",
      "a  1    0.773956\n",
      "   2    0.438878\n",
      "   3    0.858598\n",
      "b  1    0.697368\n",
      "   2    0.094177\n",
      "c  1    0.975622\n",
      "   2    0.761140\n",
      "dtype: float64\n",
      "          1         2         3\n",
      "a  0.773956  0.438878  0.858598\n",
      "b  0.697368  0.094177       NaN\n",
      "c  0.975622  0.761140       NaN\n",
      "d  0.786064  0.128114       NaN\n"
     ]
    }
   ],
   "source": [
    "# Partial Indexing - index to get a lower dimension\n",
    "# Get the dataframe in a\n",
    "print(data['a'])\n",
    "\n",
    "# Get the dataframes in a to c\n",
    "print(data['a':'c'])\n",
    "\n",
    "# To convert this series to a dataframe use unstack method\n",
    "data_df = data.unstack()\n",
    "print(data_df)\n",
    "\n",
    "# Convert dataframe to such a series using stack method"
   ]
  },
  {
   "cell_type": "code",
   "execution_count": 4,
   "metadata": {},
   "outputs": [
    {
     "name": "stdout",
     "output_type": "stream",
     "text": [
      "     Ohio     Colorado\n",
      "    Green Red    Green\n",
      "a 1     0   1        2\n",
      "  2     3   4        5\n",
      "b 1     6   7        8\n",
      "  2     9  10       11\n",
      "state      Ohio     Colorado\n",
      "color     Green Red    Green\n",
      "key1 key2                   \n",
      "a    1        0   1        2\n",
      "     2        3   4        5\n",
      "b    1        6   7        8\n",
      "     2        9  10       11\n"
     ]
    }
   ],
   "source": [
    "# Hierarichal indexes with dataframes\n",
    "frame = pd.DataFrame(np.arange(12).reshape(4, 3), \n",
    "                    index=[['a', 'a', 'b', 'b'], # top index\n",
    "                            [1, 2, 1, 2]], # lower index\n",
    "                    columns=[['Ohio', 'Ohio', 'Colorado'], # top index\n",
    "                            ['Green', 'Red', 'Green']]) # lower index\n",
    "print(frame)\n",
    "\n",
    "# To name the top and lower index of each axis:\n",
    "frame.index.names = ['key1', 'key2'] # [top, lower]\n",
    "frame.columns.names = ['state', 'color']\n",
    "print(frame)"
   ]
  },
  {
   "cell_type": "code",
   "execution_count": 5,
   "metadata": {},
   "outputs": [
    {
     "name": "stdout",
     "output_type": "stream",
     "text": [
      "color      Green  Red\n",
      "key1 key2            \n",
      "a    1         0    1\n",
      "     2         3    4\n",
      "b    1         6    7\n",
      "     2         9   10\n",
      "state  Ohio     Colorado\n",
      "color Green Red    Green\n",
      "key2                    \n",
      "1         0   1        2\n",
      "2         3   4        5\n"
     ]
    }
   ],
   "source": [
    "# Partial indexing in dataframe\n",
    "# Get the dataframe in Ohio column\n",
    "print(frame.loc[:, 'Ohio'])\n",
    "\n",
    "# Get the dataframe in row a\n",
    "print(frame.loc['a'])"
   ]
  },
  {
   "cell_type": "code",
   "execution_count": 6,
   "metadata": {},
   "outputs": [
    {
     "name": "stdout",
     "output_type": "stream",
     "text": [
      "  key  data1  data2\n",
      "0   b      0      1\n",
      "1   b      0      3\n",
      "2   b      1      1\n",
      "3   b      1      3\n",
      "4   b      6      1\n",
      "5   b      6      3\n",
      "6   a      2      0\n",
      "7   a      4      0\n",
      "8   a      5      0\n",
      "  lkey  data1 rkey  data2\n",
      "0    b      0    b      1\n",
      "1    b      1    b      1\n",
      "2    b      6    b      1\n",
      "3    a      2    a      0\n",
      "4    a      4    a      0\n",
      "5    a      5    a      0\n"
     ]
    }
   ],
   "source": [
    "# JOINING DATAFRAMES IN PANDAS\n",
    "\n",
    "# To performa an SQL join on dataframes we use the pd.merge() function\n",
    "\n",
    "df1 = pd.DataFrame({\n",
    "    'key': ['b', 'b', 'a', 'c', 'a', 'a', 'b'],\n",
    "    'data1': pd.Series(range(7), dtype='Int64')\n",
    "})\n",
    "df2 = pd.DataFrame({\n",
    "    'key': ['a', 'b', 'd', 'b'],\n",
    "    'data2': pd.Series(range(4), dtype='Int64')\n",
    "})\n",
    "\n",
    "# pd.merge with no arguments\n",
    "# print(pd.merge(df1, df2)) # Did the join on the common column and selected only common values in that column\n",
    "\n",
    "# If you want to specify the column to join on add on parameter\n",
    "print(pd.merge(df1, df2, on='key'))\n",
    "\n",
    "# If you want to join on columns that have different column names specify left_on and right_on\n",
    "df3 = pd.DataFrame({\n",
    "    'lkey': list('bbacaab'),\n",
    "    'data1': pd.Series(range(7), dtype='Int64')\n",
    "})\n",
    "\n",
    "df4 = pd.DataFrame({\n",
    "    'rkey': list('abd'),\n",
    "    'data2': pd.Series(range(3), dtype='Int64')\n",
    "})\n",
    "print(pd.merge(df3, df4, left_on='lkey', right_on='rkey'))"
   ]
  },
  {
   "cell_type": "markdown",
   "metadata": {},
   "source": [
    "<h2>Concatenation</h2>\n",
    "<p>Allows you to stack tables along an axis</p>"
   ]
  },
  {
   "cell_type": "code",
   "execution_count": 7,
   "metadata": {},
   "outputs": [
    {
     "name": "stdout",
     "output_type": "stream",
     "text": [
      "[[ 0  1  2  3]\n",
      " [ 4  5  6  7]\n",
      " [ 8  9 10 11]]\n",
      "[[ 0  1  2  3  0  1  2  3]\n",
      " [ 4  5  6  7  4  5  6  7]\n",
      " [ 8  9 10 11  8  9 10 11]]\n"
     ]
    }
   ],
   "source": [
    "# Concatenation - sticking items along an axis\n",
    "arr = np.arange(12).reshape((3, 4))\n",
    "print(arr)\n",
    "\n",
    "arr2 = np.concatenate([arr, arr], axis=1)\n",
    "print(arr2)"
   ]
  },
  {
   "cell_type": "code",
   "execution_count": 10,
   "metadata": {},
   "outputs": [
    {
     "name": "stdout",
     "output_type": "stream",
     "text": [
      "a    0\n",
      "b    1\n",
      "c    2\n",
      "d    3\n",
      "e    4\n",
      "f    5\n",
      "g    6\n",
      "dtype: Int64\n",
      "Empty DataFrame\n",
      "Columns: [0, 1, 2]\n",
      "Index: []\n"
     ]
    }
   ],
   "source": [
    "# Concatenating labelled data\n",
    "# Dealing with data that has non overlapping labels in axis\n",
    "s1 = pd.Series([0, 1], index=['a', 'b'], dtype='Int64')\n",
    "s2 = pd.Series([2, 3, 4], index=['c', 'd', 'e'], dtype='Int64')\n",
    "s3 = pd.Series([5, 6], index=['f', 'g'], dtype='Int64')\n",
    "\n",
    "# Concatenate along rows\n",
    "s4 = pd.concat([s1, s2, s3])\n",
    "print(s4)\n",
    "\n",
    "# Concatenate along columns\n",
    "s5 = pd.concat([s1, s2, s3], axis=1, join='inner')\n",
    "print(s5)"
   ]
  },
  {
   "cell_type": "code",
   "execution_count": 12,
   "metadata": {},
   "outputs": [
    {
     "name": "stdout",
     "output_type": "stream",
     "text": [
      "one    a    0\n",
      "       b    1\n",
      "two    c    2\n",
      "       d    3\n",
      "       e    4\n",
      "three  f    5\n",
      "       g    6\n",
      "dtype: Int64\n",
      "  level1     level2     \n",
      "     one two  three four\n",
      "a      0   1    5.0  6.0\n",
      "b      2   3    NaN  NaN\n",
      "c      4   5    7.0  8.0\n"
     ]
    }
   ],
   "source": [
    "# Dealing with identifying combined parts\n",
    "s6 = pd.concat([s1, s2, s3], keys=['one', 'two', 'three'])\n",
    "print(s6)\n",
    "\n",
    "# Concatenating dataframes\n",
    "df1 = pd.DataFrame(np.arange(6).reshape((3, 2)),\n",
    "                    index=list('abc'), columns=['one', 'two'])\n",
    "df2 = pd.DataFrame(5 + np.arange(4).reshape((2, 2)),\n",
    "                    index=list('ac'), columns=['three', 'four'])\n",
    "df3 = pd.concat([df1, df2], axis=1, keys=['level1', 'level2'])\n",
    "print(df3)                    "
   ]
  },
  {
   "cell_type": "code",
   "execution_count": null,
   "metadata": {},
   "outputs": [],
   "source": [
    "# Using combine_first to combine series based on index labels\n",
    "a = pd.Series([np.nan, 2.5, 0.0, 3.5, 4.5, np.nan],\n",
    "                index=list('fedcba'), dtype='float64')\n",
    "b = pd.Series([0, np.nan, 2.0, np.nan, np.nan, 5.0],\n",
    "                index=list('abcdef'), dtype='float64')\n",
    "c = a.combine_first(b)\n",
    "print(c)"
   ]
  },
  {
   "cell_type": "code",
   "execution_count": 14,
   "metadata": {},
   "outputs": [
    {
     "name": "stdout",
     "output_type": "stream",
     "text": [
      "rank      a  b  c\n",
      "position         \n",
      "one       0  1  2\n",
      "two       3  4  5\n",
      "Stacked version is:\n",
      "position  rank\n",
      "one       a       0\n",
      "          b       1\n",
      "          c       2\n",
      "two       a       3\n",
      "          b       4\n",
      "          c       5\n",
      "dtype: int64\n"
     ]
    }
   ],
   "source": [
    "# Reshaping data using stack and unstack\n",
    "\n",
    "# stack - makes columns join row index to form heirarichal index\n",
    "data = pd.DataFrame(np.arange(6).reshape(2, 3), \n",
    "                    index=pd.Index(['one', 'two'], name='position'),\n",
    "                    columns=pd.Index(['a', 'b', 'c'], name='rank'))\n",
    "print(data)\n",
    "print('Stacked version is:')\n",
    "data2 = data.stack()\n",
    "print(data2)   "
   ]
  },
  {
   "cell_type": "code",
   "execution_count": 17,
   "metadata": {},
   "outputs": [
    {
     "name": "stdout",
     "output_type": "stream",
     "text": [
      "Data2 unstack on level 0 (same as unstack(level=position)):\n",
      "position  one  two\n",
      "rank              \n",
      "a           0    3\n",
      "b           1    4\n",
      "c           2    5\n",
      "Data2 unstack on level 1 (same as unstack on level=rank):\n",
      "rank      a  b  c\n",
      "position         \n",
      "one       0  1  2\n",
      "two       3  4  5\n"
     ]
    }
   ],
   "source": [
    "# unstack - takes a hierarichal indexed Series and makes it a dataframe by making one of the indexes in the Multiindex into \n",
    "# a column\n",
    "data3 = data2.unstack(level=0)\n",
    "print('Data2 unstack on level 0 (same as unstack(level=position)):')\n",
    "print(data3)\n",
    "\n",
    "data4 = data2.unstack(level=1)\n",
    "print('Data2 unstack on level 1 (same as unstack on level=rank):')\n",
    "print(data4)"
   ]
  },
  {
   "cell_type": "code",
   "execution_count": 26,
   "metadata": {},
   "outputs": [
    {
     "name": "stdout",
     "output_type": "stream",
     "text": [
      "side           left  right\n",
      "rank position             \n",
      "a    0            0      5\n",
      "     1            1      6\n",
      "b    0            2      7\n",
      "     1            3      8\n",
      "c    0            4      9\n",
      "     1            5     10\n",
      "df1 after unstacking on level rank\n",
      "side     left       right       \n",
      "rank        a  b  c     a  b   c\n",
      "position                        \n",
      "0           0  2  4     5  7   9\n",
      "1           1  3  5     6  8  10\n",
      "df2 after stacking on level=rank\n",
      "side           left  right\n",
      "position rank             \n",
      "0        a        0      5\n",
      "         b        2      7\n",
      "         c        4      9\n",
      "1        a        1      6\n",
      "         b        3      8\n",
      "         c        5     10\n"
     ]
    }
   ],
   "source": [
    "# Unstacking a dataframe with a hierarichal index\n",
    "df1 = pd.DataFrame(np.concatenate([np.arange(6).reshape(6, 1), np.arange(5, 11).reshape(6, 1)], axis=1),\n",
    "                index=pd.MultiIndex.from_arrays([list('aabbcc'), [0, 1, 0, 1, 0, 1]], names=['rank', 'position']),\n",
    "                columns=pd.Index(['left', 'right'], name='side'))\n",
    "print(df1)\n",
    "print('df1 after unstacking on level rank')\n",
    "df2 = df1.unstack(level='rank')\n",
    "print(df2)\n",
    "print('df2 after stacking on level=rank')\n",
    "df3 = df2.stack(level='rank')\n",
    "print(df3)"
   ]
  },
  {
   "cell_type": "code",
   "execution_count": 35,
   "metadata": {},
   "outputs": [
    {
     "name": "stdout",
     "output_type": "stream",
     "text": [
      "   year  quarter   realgdp  infl  unemp\n",
      "0  1959        1  2710.349  0.00    5.8\n",
      "1  1959        2  2778.801  2.34    5.1\n",
      "2  1959        3  2775.488  2.74    5.3\n",
      "3  1959        4  2785.204  0.27    5.6\n",
      "4  1960        1  2847.699  2.31    5.2\n",
      "PeriodIndex(['1959Q1', '1959Q2', '1959Q3', '1959Q4', '1960Q1', '1960Q2',\n",
      "             '1960Q3', '1960Q4', '1961Q1', '1961Q2',\n",
      "             ...\n",
      "             '2007Q2', '2007Q3', '2007Q4', '2008Q1', '2008Q2', '2008Q3',\n",
      "             '2008Q4', '2009Q1', '2009Q2', '2009Q3'],\n",
      "            dtype='period[Q-DEC]', name='date', length=203)\n",
      "item         realgdp  infl  unemp\n",
      "date                             \n",
      "1959-01-01  2710.349  0.00    5.8\n",
      "1959-04-01  2778.801  2.34    5.1\n",
      "1959-07-01  2775.488  2.74    5.3\n",
      "1959-10-01  2785.204  0.27    5.6\n",
      "1960-01-01  2847.699  2.31    5.2\n",
      "        date     item     value\n",
      "0 1959-01-01  realgdp  2710.349\n",
      "1 1959-01-01     infl     0.000\n",
      "2 1959-01-01    unemp     5.800\n",
      "3 1959-04-01  realgdp  2778.801\n",
      "4 1959-04-01     infl     2.340\n"
     ]
    }
   ],
   "source": [
    "# Pivoting long to wide format\n",
    "timedf = pd.read_csv('pydata-book/examples/macrodata.csv')\n",
    "timedf2 = timedf.reindex(columns=['year', 'quarter', 'realgdp', 'infl', 'unemp'])\n",
    "print(timedf2.head())\n",
    "\n",
    "# Combine both year and quarter columns to make index consist of datetime values\n",
    "periods = pd.PeriodIndex(year=timedf2.pop('year'),\n",
    "                        quarter=timedf2.pop('quarter'),\n",
    "                        name='date')\n",
    "print(periods)\n",
    "timedf2.index = periods.to_timestamp('D')\n",
    "timedf2.columns.name = 'item'\n",
    "print(timedf2.head())\n",
    "ldata = timedf2.stack().reset_index().rename(columns={0:'value'})\n",
    "print(ldata.head())"
   ]
  },
  {
   "cell_type": "code",
   "execution_count": 36,
   "metadata": {},
   "outputs": [
    {
     "name": "stdout",
     "output_type": "stream",
     "text": [
      "ldata conveted to wide format is:\n",
      "item        infl    realgdp  unemp\n",
      "date                              \n",
      "1959-01-01  0.00   2710.349    5.8\n",
      "1959-04-01  2.34   2778.801    5.1\n",
      "1959-07-01  2.74   2775.488    5.3\n",
      "1959-10-01  0.27   2785.204    5.6\n",
      "1960-01-01  2.31   2847.699    5.2\n",
      "...          ...        ...    ...\n",
      "2008-07-01 -3.16  13324.600    6.0\n",
      "2008-10-01 -8.79  13141.920    6.9\n",
      "2009-01-01  0.94  12925.410    8.1\n",
      "2009-04-01  3.37  12901.504    9.2\n",
      "2009-07-01  3.56  12990.341    9.6\n",
      "\n",
      "[203 rows x 3 columns]\n"
     ]
    }
   ],
   "source": [
    "# Pivoting - convert long format to wide format\n",
    "wdata = ldata.pivot(index='date', columns='item', values='value')\n",
    "print('ldata conveted to wide format is:')\n",
    "print(wdata)"
   ]
  },
  {
   "cell_type": "code",
   "execution_count": 37,
   "metadata": {},
   "outputs": [
    {
     "name": "stdout",
     "output_type": "stream",
     "text": [
      "Wide Format is: \n",
      "   key  A  B\n",
      "0  foo  1  5\n",
      "1  bar  2  6\n",
      "2  baz  3  7\n",
      "Long Format is: \n",
      "   key variable  value\n",
      "0  foo        A      1\n",
      "1  bar        A      2\n",
      "2  baz        A      3\n",
      "3  foo        B      5\n",
      "4  bar        B      6\n",
      "5  baz        B      7\n"
     ]
    }
   ],
   "source": [
    "# Changing from wide fomrat to long format\n",
    "wdf = pd.DataFrame({'key': ['foo', 'bar', 'baz'],\n",
    "                    'A': [1, 2, 3],\n",
    "                    'B': [5, 6, 7]})\n",
    "print('Wide Format is: ')\n",
    "print(wdf)\n",
    "print('Long Format is: ')\n",
    "ldf = pd.melt(wdf, id_vars='key')\n",
    "print(ldf)"
   ]
  }
 ],
 "metadata": {
  "kernelspec": {
   "display_name": "Python 3.8.10 ('datasciencestar': venv)",
   "language": "python",
   "name": "python3"
  },
  "language_info": {
   "codemirror_mode": {
    "name": "ipython",
    "version": 3
   },
   "file_extension": ".py",
   "mimetype": "text/x-python",
   "name": "python",
   "nbconvert_exporter": "python",
   "pygments_lexer": "ipython3",
   "version": "3.8.10"
  },
  "orig_nbformat": 4,
  "vscode": {
   "interpreter": {
    "hash": "51c9cea8a4711522a4bf8b45c200e690e948b7adecc3dbdd4ef9333c51e9d22c"
   }
  }
 },
 "nbformat": 4,
 "nbformat_minor": 2
}
