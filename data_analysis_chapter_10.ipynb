{
 "cells": [
  {
   "cell_type": "code",
   "execution_count": 1,
   "metadata": {},
   "outputs": [],
   "source": [
    "import pandas as pd\n",
    "import numpy as np"
   ]
  },
  {
   "cell_type": "code",
   "execution_count": 9,
   "metadata": {},
   "outputs": [
    {
     "name": "stdout",
     "output_type": "stream",
     "text": [
      "   key1  key2  data1  data2\n",
      "0     a     1     10     20\n",
      "1     a     2     11     21\n",
      "2  None     1     12     22\n",
      "3     b     2     13     23\n",
      "4     b     1     14     24\n",
      "5     a  <NA>     15     25\n",
      "6  None     1     16     26\n",
      "<pandas.core.groupby.generic.SeriesGroupBy object at 0x7f5ceda01eb0>\n",
      "key1\n",
      "a    12.0\n",
      "b    13.5\n",
      "Name: data1, dtype: float64\n",
      "key1  key2\n",
      "a     1       10.0\n",
      "      2       11.0\n",
      "b     1       14.0\n",
      "      2       13.0\n",
      "Name: data1, dtype: float64\n"
     ]
    }
   ],
   "source": [
    "# Grouping\n",
    "df = pd.DataFrame({\n",
    "    'key1': ['a', 'a', None, 'b', 'b', 'a', None],\n",
    "    'key2': pd.Series([1, 2, 1, 2, 1, None, 1], dtype='Int64'),\n",
    "    'data1': np.arange(10, 17),\n",
    "    'data2': np.arange(20, 27)\n",
    "})\n",
    "print(df)\n",
    "\n",
    "# Mean of data1 of each key1 - split\n",
    "grouped = df['data1'].groupby(df['key1'])\n",
    "print(grouped)\n",
    "\n",
    "# Apply a function to each group\n",
    "group_mean = grouped.mean()\n",
    "print(group_mean)\n",
    "\n",
    "# Use a list of series as the grouping key\n",
    "list_grouped = df['data1'].groupby([df['key1'], df['key2']])\n",
    "\n",
    "# Mean of list_grouped\n",
    "list_mean = list_grouped.mean()\n",
    "print(list_mean)\n"
   ]
  },
  {
   "cell_type": "code",
   "execution_count": 10,
   "metadata": {},
   "outputs": [
    {
     "name": "stdout",
     "output_type": "stream",
     "text": [
      "CA  2005    13.0\n",
      "    2006    12.0\n",
      "OH  2005    11.5\n",
      "    2006    15.0\n",
      "Name: data1, dtype: float64\n"
     ]
    }
   ],
   "source": [
    "# Grouping with an array as the key\n",
    "states = ['OH', 'CA', 'CA', 'OH', 'OH', 'CA', 'OH']\n",
    "years = [2005, 2005, 2006, 2005, 2006, 2005, 2006]\n",
    "\n",
    "state_year_grouped = df['data1'].groupby([states, years]).mean()\n",
    "print(state_year_grouped)"
   ]
  }
 ],
 "metadata": {
  "kernelspec": {
   "display_name": "Python 3.8.10 ('datasciencestar': venv)",
   "language": "python",
   "name": "python3"
  },
  "language_info": {
   "codemirror_mode": {
    "name": "ipython",
    "version": 3
   },
   "file_extension": ".py",
   "mimetype": "text/x-python",
   "name": "python",
   "nbconvert_exporter": "python",
   "pygments_lexer": "ipython3",
   "version": "3.8.10"
  },
  "orig_nbformat": 4,
  "vscode": {
   "interpreter": {
    "hash": "51c9cea8a4711522a4bf8b45c200e690e948b7adecc3dbdd4ef9333c51e9d22c"
   }
  }
 },
 "nbformat": 4,
 "nbformat_minor": 2
}
