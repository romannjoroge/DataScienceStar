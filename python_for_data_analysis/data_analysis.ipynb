{
 "cells": [
  {
   "cell_type": "markdown",
   "metadata": {},
   "source": [
    "<h1>Numpy Section From Book</h1>\n",
    "<br>\n",
    "<h3>Array Creation, Indexing and Operations</h3>"
   ]
  },
  {
   "cell_type": "code",
   "execution_count": 1,
   "metadata": {},
   "outputs": [
    {
     "name": "stdout",
     "output_type": "stream",
     "text": [
      "[  0   1   4   9  16  25  36  49  64  81 100]\n"
     ]
    }
   ],
   "source": [
    "import numpy as np\n",
    "# Element wise operations\n",
    "data = np.arange(11)\n",
    "print(data * data) # Each element is multiplied by 2, this is an element wise operation not cross product\n",
    "data2 = np.arange(10)\n",
    "# print(data + data2) this won't work because the arrays don't have the same shape"
   ]
  },
  {
   "cell_type": "code",
   "execution_count": 2,
   "metadata": {},
   "outputs": [
    {
     "name": "stdout",
     "output_type": "stream",
     "text": [
      "0\n",
      "object\n",
      "{1: [0, 1, 2, 3, 4], 2: [5, 6, 7, 8, 9], 3: 'Hello'}\n"
     ]
    }
   ],
   "source": [
    "# Its possible to create numpy arrays from any sequence, so what about a dictionary? \n",
    "data = np.array({\n",
    "    1:[i for i in range(5)],\n",
    "    2: [i for i in range(5, 10)],\n",
    "    3: \"Hello\"\n",
    "})\n",
    "print(data.ndim) # 0D array? so it is just an element of an array\n",
    "print(data.dtype)\n",
    "print(data)\n",
    "# You can't create array from a dict it will just create a single array element, maybe create from a list of dicts"
   ]
  },
  {
   "cell_type": "code",
   "execution_count": 3,
   "metadata": {},
   "outputs": [
    {
     "name": "stdout",
     "output_type": "stream",
     "text": [
      "[ 1  3  5  7  9 11 13]\n",
      "[1 1 1 1 1 1 1]\n",
      "[0.44084938 0.91225126 0.55482871 0.38763378 0.78959675]\n",
      "[[1. 0. 0. 0.]\n",
      " [0. 1. 0. 0.]\n",
      " [0. 0. 1. 0.]\n",
      " [0. 0. 0. 1.]]\n",
      "[[6.93608032e-310 1.55288864e-316 0.00000000e+000 0.00000000e+000]\n",
      " [0.00000000e+000 0.00000000e+000 0.00000000e+000 0.00000000e+000]\n",
      " [0.00000000e+000 0.00000000e+000 0.00000000e+000 0.00000000e+000]\n",
      " [0.00000000e+000 0.00000000e+000 0.00000000e+000 0.00000000e+000]]\n"
     ]
    }
   ],
   "source": [
    "# Methods for creating arrays - not exhaustive but a good amount\n",
    "arr1 = np.arange(1, 15, 2)\n",
    "arr2 = np.ones_like(arr1)\n",
    "arr3 = np.random.rand(5)\n",
    "arr4 = np.identity(4)\n",
    "arr5 = np.empty_like(arr4)\n",
    "print(arr1, arr2, arr3, arr4, arr5, sep='\\n')"
   ]
  },
  {
   "cell_type": "code",
   "execution_count": 4,
   "metadata": {},
   "outputs": [
    {
     "name": "stdout",
     "output_type": "stream",
     "text": [
      "Type of arr1 before change int64\n",
      "Type of arr1 after changing is uint8\n"
     ]
    }
   ],
   "source": [
    "# You can change types of numpy arrays\n",
    "print(f\"Type of arr1 before change {arr1.dtype}\")\n",
    "arr1 = arr1.astype(np.uint8)\n",
    "print(f\"Type of arr1 after changing is {arr1.dtype}\")\n",
    "# One very useful case is to convert a list of strings representing numbers into a list of numbers"
   ]
  },
  {
   "cell_type": "code",
   "execution_count": 5,
   "metadata": {},
   "outputs": [
    {
     "name": "stdout",
     "output_type": "stream",
     "text": [
      "[[2 5 5 4 9]\n",
      " [9 1 7 9 5]\n",
      " [3 1 9 2 9]]\n",
      "9\n",
      "[[2 5 5 4 9]\n",
      " [9 1 7 9 5]]\n",
      "[2 5 5 4]\n",
      "[5 9 9]\n"
     ]
    }
   ],
   "source": [
    "# Indexing arrays\n",
    "arr2D = np.random.randint(10, size=(3,5))\n",
    "print(arr2D)\n",
    "print(arr2D[-1, 2])\n",
    "# For multidimensional arrays a slice slices along the arrays in that dimension e.g\n",
    "# Perform a slice on top dimension\n",
    "print(arr2D[:-1])\n",
    "# Perform a slice on bottom dimension\n",
    "print(arr2D[0, :-1])\n",
    "\n",
    "names = np.array([\"Bob\", \"Joe\", \"Will\", \"Bob\", \"Will\", \"Joe\", \"Joe\"])\n",
    "data = np.array([[4, 7], [0, 2], [-5, 6], [0, 0], [1, 2],\n",
    "                [-12, -4], [3, 4]])\n",
    "# Suppose that each name in names is represented by a vector in data, if you want to get all the vectors that represent Bob\n",
    "# You could use a condition to index data\n",
    "bob_vectors = data[names == 'Bob'] # No need to do .copy() since it already creates a copy\n",
    "data < 0\n",
    "# If I wanted to get the values in the last diagonal I'd use lists to index\n",
    "print(arr2D[[0, 1, 2], [2, 3, 4]])"
   ]
  },
  {
   "cell_type": "markdown",
   "metadata": {},
   "source": [
    "<h3>Numpy Random Module</h3>"
   ]
  },
  {
   "cell_type": "code",
   "execution_count": 6,
   "metadata": {},
   "outputs": [
    {
     "name": "stdout",
     "output_type": "stream",
     "text": [
      "[[ 0.30471708 -1.03998411  0.7504512   0.94056472]\n",
      " [-1.95103519 -1.30217951  0.1278404  -0.31624259]\n",
      " [-0.01680116 -0.85304393  0.87939797  0.77779194]\n",
      " [ 0.0660307   1.12724121  0.46750934 -0.85929246]]\n",
      "[[7.77292394 5.31908628 9.13815586 8.158322  ]\n",
      " [8.7904387  6.77262984 9.85349012 9.46560561]\n",
      " [8.89191749 5.97319354 7.33360502 5.21901883]\n",
      " [5.77144746 8.41524477 8.72381078 9.83754866]]\n"
     ]
    }
   ],
   "source": [
    "# Can generate arrays of random values, distribution values e.t.c\n",
    "rng = np.random.default_rng(seed=42) # Used to create a random number generator with a specific seed\n",
    "arr1 = rng.standard_normal(size=(4, 4)) # Generates a 4 x 4 matrix of values following a normal distribution\n",
    "print(arr1)\n",
    "arr2 = rng.uniform(low=5, high=10, size=(4, 4))\n",
    "print(arr2)"
   ]
  },
  {
   "cell_type": "markdown",
   "metadata": {},
   "source": [
    "<h3>Universal Functions</h3>"
   ]
  },
  {
   "cell_type": "code",
   "execution_count": 7,
   "metadata": {},
   "outputs": [
    {
     "name": "stdout",
     "output_type": "stream",
     "text": [
      "[False False False False False False False False False False False False\n",
      " False False False False False False False False]\n",
      "[ 0 49 36 16 16 64  0 36  4  0 25 81 49 49 49 49 25  1 64 16]\n"
     ]
    }
   ],
   "source": [
    "# Seed random number generator\n",
    "gen = np.random.default_rng(seed=42)\n",
    "arr1 = gen.integers(0, high=10, size=(20))\n",
    "print(np.isnan(arr1))\n",
    "print(np.square(arr1))"
   ]
  },
  {
   "cell_type": "markdown",
   "metadata": {},
   "source": [
    "<h2>Array Oriented Programming</h2>"
   ]
  },
  {
   "cell_type": "code",
   "execution_count": 8,
   "metadata": {},
   "outputs": [
    {
     "name": "stdout",
     "output_type": "stream",
     "text": [
      "[[ 0  1  2  3  4  5  6  7  8  9 10]\n",
      " [ 0  1  2  3  4  5  6  7  8  9 10]\n",
      " [ 0  1  2  3  4  5  6  7  8  9 10]\n",
      " [ 0  1  2  3  4  5  6  7  8  9 10]\n",
      " [ 0  1  2  3  4  5  6  7  8  9 10]\n",
      " [ 0  1  2  3  4  5  6  7  8  9 10]\n",
      " [ 0  1  2  3  4  5  6  7  8  9 10]\n",
      " [ 0  1  2  3  4  5  6  7  8  9 10]\n",
      " [ 0  1  2  3  4  5  6  7  8  9 10]\n",
      " [ 0  1  2  3  4  5  6  7  8  9 10]\n",
      " [ 0  1  2  3  4  5  6  7  8  9 10]]\n",
      "[[ 0  0  0  0  0  0  0  0  0  0  0]\n",
      " [ 1  1  1  1  1  1  1  1  1  1  1]\n",
      " [ 2  2  2  2  2  2  2  2  2  2  2]\n",
      " [ 3  3  3  3  3  3  3  3  3  3  3]\n",
      " [ 4  4  4  4  4  4  4  4  4  4  4]\n",
      " [ 5  5  5  5  5  5  5  5  5  5  5]\n",
      " [ 6  6  6  6  6  6  6  6  6  6  6]\n",
      " [ 7  7  7  7  7  7  7  7  7  7  7]\n",
      " [ 8  8  8  8  8  8  8  8  8  8  8]\n",
      " [ 9  9  9  9  9  9  9  9  9  9  9]\n",
      " [10 10 10 10 10 10 10 10 10 10 10]]\n"
     ]
    }
   ],
   "source": [
    "# Use np.meshgrid to create 2 matrices from lists\n",
    "arr1 = np.arange(11)\n",
    "A, B = np.meshgrid(arr1, arr1)\n",
    "print(A)\n",
    "print(B)"
   ]
  },
  {
   "cell_type": "code",
   "execution_count": 9,
   "metadata": {},
   "outputs": [
    {
     "data": {
      "text/plain": [
       "array([ 0,  1,  4,  3,  8,  5, 12,  7, 16,  9, 20])"
      ]
     },
     "execution_count": 9,
     "metadata": {},
     "output_type": "execute_result"
    }
   ],
   "source": [
    "# Building arrays based on conditions\n",
    "# Python Way (alower and hard to do for multidimensional arrays)\n",
    "arr1 = [i for i in range(11)]\n",
    "arr2 = [x * 2 if x % 2 == 0 else x for x in arr1]\n",
    "# Numpy way\n",
    "arr1 = np.array(arr1)\n",
    "arr2 = np.where(arr1 % 2 == 0, arr1 * 2, arr1)\n",
    "arr2"
   ]
  },
  {
   "cell_type": "code",
   "execution_count": 10,
   "metadata": {},
   "outputs": [
    {
     "name": "stdout",
     "output_type": "stream",
     "text": [
      "[[ 1  2  3  4  5  6  7  8  9 10]\n",
      " [11 12 13 14 15 16 17 18 19 20]]\n",
      "Mean of all items is 10.5\n",
      "Mean of each row is [ 6.  7.  8.  9. 10. 11. 12. 13. 14. 15.]\n",
      "Mean of each row is [ 5.5 15.5]\n"
     ]
    }
   ],
   "source": [
    "# You can also do mathematical and statistical functions on all the data in the array or on an axis in array\n",
    "arr1 = np.reshape(np.arange(1, 21), newshape=(2, 10))\n",
    "print(arr1)\n",
    "# Get mean of all values\n",
    "print(f\"Mean of all items is {arr1.mean()}\")\n",
    "# Get a list of the means of each column\n",
    "print(f\"Mean of each row is {np.mean(arr1, axis=0)}\")\n",
    "# Get a list of the means of each row\n",
    "print(f\"Mean of each row is {np.mean(arr1, axis=1)}\")"
   ]
  },
  {
   "cell_type": "code",
   "execution_count": 11,
   "metadata": {},
   "outputs": [
    {
     "name": "stdout",
     "output_type": "stream",
     "text": [
      "[[10  9]\n",
      " [ 8  7]\n",
      " [20 19]\n",
      " [ 6  5]\n",
      " [14 13]\n",
      " [16 15]\n",
      " [12 11]\n",
      " [ 2  1]\n",
      " [18 17]\n",
      " [ 4  3]]\n",
      "[[ 9 10]\n",
      " [ 7  8]\n",
      " [19 20]\n",
      " [ 5  6]\n",
      " [13 14]\n",
      " [15 16]\n",
      " [11 12]\n",
      " [ 1  2]\n",
      " [17 18]\n",
      " [ 3  4]]\n"
     ]
    }
   ],
   "source": [
    "rng = np.random.default_rng(42)\n",
    "# Sorting\n",
    "arr1 = np.arange(20, 0, -1).reshape((10, 2))\n",
    "rng.shuffle(arr1)\n",
    "print(arr1)\n",
    "# Sort the entire arr\n",
    "arr1.sort(axis=1)\n",
    "print(arr1)"
   ]
  },
  {
   "cell_type": "code",
   "execution_count": 12,
   "metadata": {},
   "outputs": [
    {
     "name": "stdout",
     "output_type": "stream",
     "text": [
      "9\n",
      "-2\n"
     ]
    }
   ],
   "source": [
    "# Simulate a random walk using gained knowledge\n",
    "rng = np.random.default_rng(42) # Set seed\n",
    "\n",
    "# We are standing in a building with 60 floors, we go up a floor if we get heads on a coin flip and go down if we flip tails\n",
    "# Let's see the highest we can go with 100 coin flips\n",
    "no_coin_flips = 100\n",
    "# 0 will be tails and 1 will be head\n",
    "coin_flips = rng.integers(0, 2, size=no_coin_flips)\n",
    "\n",
    "initial_floor = 0\n",
    "walk = np.where(coin_flips == 1, 1, -1)\n",
    "walk = np.cumsum(walk) # Walk\n",
    "\n",
    "highest_floor = walk.max()\n",
    "print(highest_floor)\n",
    "lowest_floor = walk.min()\n",
    "print(lowest_floor)\n"
   ]
  },
  {
   "cell_type": "markdown",
   "metadata": {},
   "source": [
    "<h1>Pandas Section From Book</h1>\n",
    "<h2>Introduction</h2>"
   ]
  },
  {
   "cell_type": "code",
   "execution_count": 13,
   "metadata": {},
   "outputs": [
    {
     "name": "stdout",
     "output_type": "stream",
     "text": [
      "0    1\n",
      "1    2\n",
      "2    3\n",
      "3   -4\n",
      "4    5\n",
      "dtype: int64\n",
      "Roman    100\n",
      "Rico     100\n",
      "dtype: int64\n"
     ]
    }
   ],
   "source": [
    "from pandas import Series\n",
    "# Pandas has 2 main data structures - Series and Dataframes\n",
    "# Series - 1D array like object with the same datatype and an array of indexes\n",
    "ser1 = Series([1, 2, 3, -4, 5])\n",
    "print(ser1)\n",
    "# How to create a series with a specific index\n",
    "ser2 = Series([100, 100, 50, 75, 40], index=['Roman', 'Rico', 'Oktombo', 'Ankantele', 'Uvuvwevwevwe'])\n",
    "print(ser2[['Roman', 'Rico']])"
   ]
  },
  {
   "cell_type": "code",
   "execution_count": 14,
   "metadata": {},
   "outputs": [
    {
     "name": "stdout",
     "output_type": "stream",
     "text": [
      "0      1\n",
      "1      2\n",
      "2      3\n",
      "3      4\n",
      "4      5\n",
      "5      6\n",
      "6      7\n",
      "7      8\n",
      "8      9\n",
      "9     10\n",
      "10    11\n",
      "11    12\n",
      "12    13\n",
      "13    14\n",
      "14    15\n",
      "15    16\n",
      "16    17\n",
      "17    18\n",
      "18    19\n",
      "19    20\n",
      "dtype: int64\n",
      "[ 1  4  3 -8  5]\n"
     ]
    }
   ],
   "source": [
    "# You can still use numpy functions with Series objects\n",
    "import numpy as np\n",
    "ser3 = Series(np.arange(1, 21)) # Different ways to create 1D arrays can be used to make Series\n",
    "print(ser3)\n",
    "# Element Wise Operations\n",
    "ser4 = ser3 + 2 # Do element wise operations with scalars\n",
    "# print(ser4)\n",
    "ser5 = ser3 * ser3  # Do element wise operations with other arrays\n",
    "# print(ser5)\n",
    "ser6 = np.cumsum(ser3)\n",
    "# print(ser6)  # Use universal functions with Series\n",
    "ser7 = np.mean(ser1)\n",
    "# print(ser7) # Do array operations that don't result in an array\n",
    "# ser8 = Series(np.identity(4)) # Can't make series from multidimensional array\n",
    "arr1 = np.unique(ser1)\n",
    "# print(arr1)\n",
    "ser8 = np.where(ser1 % 2 == 0, ser1 * 2, ser1)\n",
    "print(ser8) # Returned an array"
   ]
  },
  {
   "cell_type": "code",
   "execution_count": 15,
   "metadata": {},
   "outputs": [
    {
     "name": "stdout",
     "output_type": "stream",
     "text": [
      "True\n",
      "Luffy    3000000000\n",
      "Zoro     1100000000\n",
      "Sanji    1050000000\n",
      "Jinbe    1110000000\n",
      "Robin    1000000000\n",
      "dtype: int64\n"
     ]
    },
    {
     "data": {
      "text/plain": [
       "Jinbe    1110000000\n",
       "Robin    1000000000\n",
       "Sanji    1050000000\n",
       "Luffy    3000000000\n",
       "Robin    1000000000\n",
       "dtype: int64"
      ]
     },
     "execution_count": 15,
     "metadata": {},
     "output_type": "execute_result"
    }
   ],
   "source": [
    "# Series objects can also be used like dictionaries\n",
    "from re import I\n",
    "\n",
    "\n",
    "print('Roman' in ser2)\n",
    "# Create a series from a dictionary\n",
    "ser9 = Series({'Luffy': 3_000_000_000, 'Zoro': 1_100_000_000, 'Sanji': 1_050_000_000, 'Jinbe': 1_110_000_000, 'Robin': 1_000_000_000})\n",
    "print(ser9)\n",
    "# If I wanted to make sure ser9 had values in a certain order I can pass the index parameter with the order of values I want\n",
    "ser9 = Series({'Luffy': 3_000_000_000, 'Zoro': 1_100_000_000, 'Sanji': 1_050_000_000, 'Jinbe': 1_110_000_000, 'Robin': 1_000_000_000}, index=['Jinbe', 'Robin', 'Sanji', 'Luffy', 'Robin'])\n",
    "ser9\n"
   ]
  },
  {
   "cell_type": "code",
   "execution_count": 16,
   "metadata": {},
   "outputs": [
    {
     "name": "stdout",
     "output_type": "stream",
     "text": [
      "Jinbe    False\n",
      "Robin    False\n",
      "Sanji    False\n",
      "Luffy    False\n",
      "Robin    False\n",
      "dtype: bool\n"
     ]
    }
   ],
   "source": [
    "print(np.isnan(ser9))"
   ]
  },
  {
   "cell_type": "code",
   "execution_count": 17,
   "metadata": {},
   "outputs": [
    {
     "data": {
      "text/html": [
       "<div>\n",
       "<style scoped>\n",
       "    .dataframe tbody tr th:only-of-type {\n",
       "        vertical-align: middle;\n",
       "    }\n",
       "\n",
       "    .dataframe tbody tr th {\n",
       "        vertical-align: top;\n",
       "    }\n",
       "\n",
       "    .dataframe thead th {\n",
       "        text-align: right;\n",
       "    }\n",
       "</style>\n",
       "<table border=\"1\" class=\"dataframe\">\n",
       "  <thead>\n",
       "    <tr style=\"text-align: right;\">\n",
       "      <th></th>\n",
       "      <th>bounties</th>\n",
       "    </tr>\n",
       "    <tr>\n",
       "      <th>name</th>\n",
       "      <th></th>\n",
       "    </tr>\n",
       "  </thead>\n",
       "  <tbody>\n",
       "    <tr>\n",
       "      <th>Luffy</th>\n",
       "      <td>3000000000</td>\n",
       "    </tr>\n",
       "    <tr>\n",
       "      <th>Zoro</th>\n",
       "      <td>1100000000</td>\n",
       "    </tr>\n",
       "    <tr>\n",
       "      <th>Jinbe</th>\n",
       "      <td>1110000000</td>\n",
       "    </tr>\n",
       "    <tr>\n",
       "      <th>Robin</th>\n",
       "      <td>1000000000</td>\n",
       "    </tr>\n",
       "    <tr>\n",
       "      <th>Sanji</th>\n",
       "      <td>1050000000</td>\n",
       "    </tr>\n",
       "  </tbody>\n",
       "</table>\n",
       "</div>"
      ],
      "text/plain": [
       "         bounties\n",
       "name             \n",
       "Luffy  3000000000\n",
       "Zoro   1100000000\n",
       "Jinbe  1110000000\n",
       "Robin  1000000000\n",
       "Sanji  1050000000"
      ]
     },
     "execution_count": 17,
     "metadata": {},
     "output_type": "execute_result"
    }
   ],
   "source": [
    "from pandas import DataFrame\n",
    "df1 = DataFrame({\n",
    "    'name': ['Luffy', 'Zoro', 'Jinbe', 'Robin', 'Sanji'],\n",
    "    'bounties': [3_000_000_000, 1_100_000_000, 1_110_000_000, 1_000_000_000, 1_050_000_000]\n",
    "})\n",
    "df1.set_index('name' ,inplace=True)\n",
    "df1 \n"
   ]
  },
  {
   "cell_type": "code",
   "execution_count": 18,
   "metadata": {},
   "outputs": [
    {
     "name": "stdout",
     "output_type": "stream",
     "text": [
      "True\n",
      "         bounties\n",
      "name             \n",
      "Luffy  3000000000\n",
      "Zoro   1100000000\n",
      "Jinbe  1110000000\n",
      "Sanji  1050000000\n",
      "Robin  1000000000\n",
      "Brook   500000000\n"
     ]
    }
   ],
   "source": [
    "print('Sanji' in df1.index)  # How to use indexes to see if value in dataframe\n",
    "# How to rearrange values in a dataframe\n",
    "df2 = df1.reindex(['Luffy', 'Zoro', 'Jinbe', 'Sanji', 'Robin', 'Brook'], fill_value=500_000_000)\n",
    "print(df2) "
   ]
  },
  {
   "cell_type": "code",
   "execution_count": 19,
   "metadata": {},
   "outputs": [
    {
     "name": "stdout",
     "output_type": "stream",
     "text": [
      "3    4\n",
      "4    3\n",
      "dtype: int64\n",
      "4    3\n",
      "3    4\n",
      "dtype: int64\n"
     ]
    }
   ],
   "source": [
    "# A good way to illustrate when to use iloc\n",
    "ser1 = Series(np.arange(5), index=[2, 1, 0, 4, 3])\n",
    "# Let's say you want to get the 4th and 5th elements\n",
    "print(ser1[[3, 4]]) # This doesn't give me what I want\n",
    "# To actually do this I use iloc\n",
    "print(ser1.iloc[[3, 4]])"
   ]
  },
  {
   "cell_type": "code",
   "execution_count": 20,
   "metadata": {},
   "outputs": [
    {
     "name": "stdout",
     "output_type": "stream",
     "text": [
      "a   -5.3\n",
      "b    7.2\n",
      "c    3.6\n",
      "d    4.5\n",
      "e    NaN\n",
      "dtype: float64\n"
     ]
    }
   ],
   "source": [
    "# Reindexing - rearrange according to a new index\n",
    "obj = Series([4.5, 7.2, -5.3, 3.6], index=['d', 'b', 'a', 'c'])\n",
    "obj2 = obj.reindex(['a', 'b', 'c', 'd', 'e'])\n",
    "print(obj2) # Has a null value because obj1 did not have an item with the index e\n",
    "\n",
    "# If index is made of numbers you can fill the NaNs created by reindexing"
   ]
  },
  {
   "cell_type": "code",
   "execution_count": 21,
   "metadata": {},
   "outputs": [
    {
     "name": "stdout",
     "output_type": "stream",
     "text": [
      "   Nairobi  Naivasha  Nakuru  Eldoret  Machakos\n",
      "a        1         2       3        4         5\n",
      "b        6         7       8        9        10\n",
      "c       11        12      13       14        15\n",
      "d       16        17      18       19        20\n",
      "   Nairobi  Naivasha  Nakuru  Eldoret  Machakos\n",
      "b      6.0       7.0     8.0      9.0      10.0\n",
      "c     11.0      12.0    13.0     14.0      15.0\n",
      "d     16.0      17.0    18.0     19.0      20.0\n",
      "a      1.0       2.0     3.0      4.0       5.0\n",
      "e      NaN       NaN     NaN      NaN       NaN\n",
      "   Nairobi  Eldoret  Kikuyu\n",
      "a        1        4     NaN\n",
      "b        6        9     NaN\n",
      "c       11       14     NaN\n",
      "d       16       19     NaN\n",
      "   Nakuru  Nairobi\n",
      "a       3        1\n",
      "d      18       16\n",
      "c      13       11\n"
     ]
    },
    {
     "ename": "KeyError",
     "evalue": "\"['Kikuyu'] not in index\"",
     "output_type": "error",
     "traceback": [
      "\u001b[0;31m---------------------------------------------------------------------------\u001b[0m",
      "\u001b[0;31mKeyError\u001b[0m                                  Traceback (most recent call last)",
      "Cell \u001b[0;32mIn [21], line 14\u001b[0m\n\u001b[1;32m     12\u001b[0m df4 \u001b[38;5;241m=\u001b[39m df\u001b[38;5;241m.\u001b[39mreindex(index\u001b[38;5;241m=\u001b[39m[\u001b[38;5;124m'\u001b[39m\u001b[38;5;124ma\u001b[39m\u001b[38;5;124m'\u001b[39m, \u001b[38;5;124m'\u001b[39m\u001b[38;5;124md\u001b[39m\u001b[38;5;124m'\u001b[39m, \u001b[38;5;124m'\u001b[39m\u001b[38;5;124mc\u001b[39m\u001b[38;5;124m'\u001b[39m], columns\u001b[38;5;241m=\u001b[39m[\u001b[38;5;124m'\u001b[39m\u001b[38;5;124mNakuru\u001b[39m\u001b[38;5;124m'\u001b[39m, \u001b[38;5;124m'\u001b[39m\u001b[38;5;124mNairobi\u001b[39m\u001b[38;5;124m'\u001b[39m])\n\u001b[1;32m     13\u001b[0m \u001b[38;5;28mprint\u001b[39m(df4)\n\u001b[0;32m---> 14\u001b[0m \u001b[43mdf\u001b[49m\u001b[38;5;241;43m.\u001b[39;49m\u001b[43mloc\u001b[49m\u001b[43m[\u001b[49m\u001b[43m:\u001b[49m\u001b[43m,\u001b[49m\u001b[43m \u001b[49m\u001b[43m[\u001b[49m\u001b[38;5;124;43m'\u001b[39;49m\u001b[38;5;124;43mNairobi\u001b[39;49m\u001b[38;5;124;43m'\u001b[39;49m\u001b[43m,\u001b[49m\u001b[43m \u001b[49m\u001b[38;5;124;43m'\u001b[39;49m\u001b[38;5;124;43mEldoret\u001b[39;49m\u001b[38;5;124;43m'\u001b[39;49m\u001b[43m,\u001b[49m\u001b[43m \u001b[49m\u001b[38;5;124;43m'\u001b[39;49m\u001b[38;5;124;43mKikuyu\u001b[39;49m\u001b[38;5;124;43m'\u001b[39;49m\u001b[43m]\u001b[49m\u001b[43m]\u001b[49m\n",
      "File \u001b[0;32m~/Data Science/Datasciencester/datasciencestar/lib/python3.8/site-packages/pandas/core/indexing.py:1068\u001b[0m, in \u001b[0;36m_LocationIndexer.__getitem__\u001b[0;34m(self, key)\u001b[0m\n\u001b[1;32m   1066\u001b[0m     \u001b[39mif\u001b[39;00m \u001b[39mself\u001b[39m\u001b[39m.\u001b[39m_is_scalar_access(key):\n\u001b[1;32m   1067\u001b[0m         \u001b[39mreturn\u001b[39;00m \u001b[39mself\u001b[39m\u001b[39m.\u001b[39mobj\u001b[39m.\u001b[39m_get_value(\u001b[39m*\u001b[39mkey, takeable\u001b[39m=\u001b[39m\u001b[39mself\u001b[39m\u001b[39m.\u001b[39m_takeable)\n\u001b[0;32m-> 1068\u001b[0m     \u001b[39mreturn\u001b[39;00m \u001b[39mself\u001b[39;49m\u001b[39m.\u001b[39;49m_getitem_tuple(key)\n\u001b[1;32m   1069\u001b[0m \u001b[39melse\u001b[39;00m:\n\u001b[1;32m   1070\u001b[0m     \u001b[39m# we by definition only have the 0th axis\u001b[39;00m\n\u001b[1;32m   1071\u001b[0m     axis \u001b[39m=\u001b[39m \u001b[39mself\u001b[39m\u001b[39m.\u001b[39maxis \u001b[39mor\u001b[39;00m \u001b[39m0\u001b[39m\n",
      "File \u001b[0;32m~/Data Science/Datasciencester/datasciencestar/lib/python3.8/site-packages/pandas/core/indexing.py:1257\u001b[0m, in \u001b[0;36m_LocIndexer._getitem_tuple\u001b[0;34m(self, tup)\u001b[0m\n\u001b[1;32m   1254\u001b[0m \u001b[39mif\u001b[39;00m \u001b[39mself\u001b[39m\u001b[39m.\u001b[39m_multi_take_opportunity(tup):\n\u001b[1;32m   1255\u001b[0m     \u001b[39mreturn\u001b[39;00m \u001b[39mself\u001b[39m\u001b[39m.\u001b[39m_multi_take(tup)\n\u001b[0;32m-> 1257\u001b[0m \u001b[39mreturn\u001b[39;00m \u001b[39mself\u001b[39;49m\u001b[39m.\u001b[39;49m_getitem_tuple_same_dim(tup)\n",
      "File \u001b[0;32m~/Data Science/Datasciencester/datasciencestar/lib/python3.8/site-packages/pandas/core/indexing.py:925\u001b[0m, in \u001b[0;36m_LocationIndexer._getitem_tuple_same_dim\u001b[0;34m(self, tup)\u001b[0m\n\u001b[1;32m    922\u001b[0m \u001b[39mif\u001b[39;00m com\u001b[39m.\u001b[39mis_null_slice(key):\n\u001b[1;32m    923\u001b[0m     \u001b[39mcontinue\u001b[39;00m\n\u001b[0;32m--> 925\u001b[0m retval \u001b[39m=\u001b[39m \u001b[39mgetattr\u001b[39;49m(retval, \u001b[39mself\u001b[39;49m\u001b[39m.\u001b[39;49mname)\u001b[39m.\u001b[39;49m_getitem_axis(key, axis\u001b[39m=\u001b[39;49mi)\n\u001b[1;32m    926\u001b[0m \u001b[39m# We should never have retval.ndim < self.ndim, as that should\u001b[39;00m\n\u001b[1;32m    927\u001b[0m \u001b[39m#  be handled by the _getitem_lowerdim call above.\u001b[39;00m\n\u001b[1;32m    928\u001b[0m \u001b[39massert\u001b[39;00m retval\u001b[39m.\u001b[39mndim \u001b[39m==\u001b[39m \u001b[39mself\u001b[39m\u001b[39m.\u001b[39mndim\n",
      "File \u001b[0;32m~/Data Science/Datasciencester/datasciencestar/lib/python3.8/site-packages/pandas/core/indexing.py:1302\u001b[0m, in \u001b[0;36m_LocIndexer._getitem_axis\u001b[0;34m(self, key, axis)\u001b[0m\n\u001b[1;32m   1299\u001b[0m     \u001b[39mif\u001b[39;00m \u001b[39mhasattr\u001b[39m(key, \u001b[39m\"\u001b[39m\u001b[39mndim\u001b[39m\u001b[39m\"\u001b[39m) \u001b[39mand\u001b[39;00m key\u001b[39m.\u001b[39mndim \u001b[39m>\u001b[39m \u001b[39m1\u001b[39m:\n\u001b[1;32m   1300\u001b[0m         \u001b[39mraise\u001b[39;00m \u001b[39mValueError\u001b[39;00m(\u001b[39m\"\u001b[39m\u001b[39mCannot index with multidimensional key\u001b[39m\u001b[39m\"\u001b[39m)\n\u001b[0;32m-> 1302\u001b[0m     \u001b[39mreturn\u001b[39;00m \u001b[39mself\u001b[39;49m\u001b[39m.\u001b[39;49m_getitem_iterable(key, axis\u001b[39m=\u001b[39;49maxis)\n\u001b[1;32m   1304\u001b[0m \u001b[39m# nested tuple slicing\u001b[39;00m\n\u001b[1;32m   1305\u001b[0m \u001b[39mif\u001b[39;00m is_nested_tuple(key, labels):\n",
      "File \u001b[0;32m~/Data Science/Datasciencester/datasciencestar/lib/python3.8/site-packages/pandas/core/indexing.py:1240\u001b[0m, in \u001b[0;36m_LocIndexer._getitem_iterable\u001b[0;34m(self, key, axis)\u001b[0m\n\u001b[1;32m   1237\u001b[0m \u001b[39mself\u001b[39m\u001b[39m.\u001b[39m_validate_key(key, axis)\n\u001b[1;32m   1239\u001b[0m \u001b[39m# A collection of keys\u001b[39;00m\n\u001b[0;32m-> 1240\u001b[0m keyarr, indexer \u001b[39m=\u001b[39m \u001b[39mself\u001b[39;49m\u001b[39m.\u001b[39;49m_get_listlike_indexer(key, axis)\n\u001b[1;32m   1241\u001b[0m \u001b[39mreturn\u001b[39;00m \u001b[39mself\u001b[39m\u001b[39m.\u001b[39mobj\u001b[39m.\u001b[39m_reindex_with_indexers(\n\u001b[1;32m   1242\u001b[0m     {axis: [keyarr, indexer]}, copy\u001b[39m=\u001b[39m\u001b[39mTrue\u001b[39;00m, allow_dups\u001b[39m=\u001b[39m\u001b[39mTrue\u001b[39;00m\n\u001b[1;32m   1243\u001b[0m )\n",
      "File \u001b[0;32m~/Data Science/Datasciencester/datasciencestar/lib/python3.8/site-packages/pandas/core/indexing.py:1433\u001b[0m, in \u001b[0;36m_LocIndexer._get_listlike_indexer\u001b[0;34m(self, key, axis)\u001b[0m\n\u001b[1;32m   1430\u001b[0m ax \u001b[39m=\u001b[39m \u001b[39mself\u001b[39m\u001b[39m.\u001b[39mobj\u001b[39m.\u001b[39m_get_axis(axis)\n\u001b[1;32m   1431\u001b[0m axis_name \u001b[39m=\u001b[39m \u001b[39mself\u001b[39m\u001b[39m.\u001b[39mobj\u001b[39m.\u001b[39m_get_axis_name(axis)\n\u001b[0;32m-> 1433\u001b[0m keyarr, indexer \u001b[39m=\u001b[39m ax\u001b[39m.\u001b[39;49m_get_indexer_strict(key, axis_name)\n\u001b[1;32m   1435\u001b[0m \u001b[39mreturn\u001b[39;00m keyarr, indexer\n",
      "File \u001b[0;32m~/Data Science/Datasciencester/datasciencestar/lib/python3.8/site-packages/pandas/core/indexes/base.py:6108\u001b[0m, in \u001b[0;36mIndex._get_indexer_strict\u001b[0;34m(self, key, axis_name)\u001b[0m\n\u001b[1;32m   6105\u001b[0m \u001b[39melse\u001b[39;00m:\n\u001b[1;32m   6106\u001b[0m     keyarr, indexer, new_indexer \u001b[39m=\u001b[39m \u001b[39mself\u001b[39m\u001b[39m.\u001b[39m_reindex_non_unique(keyarr)\n\u001b[0;32m-> 6108\u001b[0m \u001b[39mself\u001b[39;49m\u001b[39m.\u001b[39;49m_raise_if_missing(keyarr, indexer, axis_name)\n\u001b[1;32m   6110\u001b[0m keyarr \u001b[39m=\u001b[39m \u001b[39mself\u001b[39m\u001b[39m.\u001b[39mtake(indexer)\n\u001b[1;32m   6111\u001b[0m \u001b[39mif\u001b[39;00m \u001b[39misinstance\u001b[39m(key, Index):\n\u001b[1;32m   6112\u001b[0m     \u001b[39m# GH 42790 - Preserve name from an Index\u001b[39;00m\n",
      "File \u001b[0;32m~/Data Science/Datasciencester/datasciencestar/lib/python3.8/site-packages/pandas/core/indexes/base.py:6171\u001b[0m, in \u001b[0;36mIndex._raise_if_missing\u001b[0;34m(self, key, indexer, axis_name)\u001b[0m\n\u001b[1;32m   6168\u001b[0m     \u001b[39mraise\u001b[39;00m \u001b[39mKeyError\u001b[39;00m(\u001b[39mf\u001b[39m\u001b[39m\"\u001b[39m\u001b[39mNone of [\u001b[39m\u001b[39m{\u001b[39;00mkey\u001b[39m}\u001b[39;00m\u001b[39m] are in the [\u001b[39m\u001b[39m{\u001b[39;00maxis_name\u001b[39m}\u001b[39;00m\u001b[39m]\u001b[39m\u001b[39m\"\u001b[39m)\n\u001b[1;32m   6170\u001b[0m not_found \u001b[39m=\u001b[39m \u001b[39mlist\u001b[39m(ensure_index(key)[missing_mask\u001b[39m.\u001b[39mnonzero()[\u001b[39m0\u001b[39m]]\u001b[39m.\u001b[39munique())\n\u001b[0;32m-> 6171\u001b[0m \u001b[39mraise\u001b[39;00m \u001b[39mKeyError\u001b[39;00m(\u001b[39mf\u001b[39m\u001b[39m\"\u001b[39m\u001b[39m{\u001b[39;00mnot_found\u001b[39m}\u001b[39;00m\u001b[39m not in index\u001b[39m\u001b[39m\"\u001b[39m)\n",
      "\u001b[0;31mKeyError\u001b[0m: \"['Kikuyu'] not in index\""
     ]
    }
   ],
   "source": [
    "# Reindexing dataframes\n",
    "df = DataFrame(np.arange(1, 21).reshape((4, 5)),\n",
    "                index=['a', 'b', 'c', 'd'],\n",
    "                columns=['Nairobi', 'Naivasha', 'Nakuru', 'Eldoret', 'Machakos'])\n",
    "print(df)\n",
    "# Reindex method with only a sequence argument changes index\n",
    "df2 = df.reindex(['b', 'c', 'd', 'a', 'e'])\n",
    "print(df2)\n",
    "df3 = df.reindex(columns=['Nairobi', 'Eldoret', 'Kikuyu']) # Allows you to only choose these columns\n",
    "print(df3)\n",
    "# You want to pick only Nakuru and Nairobi data for a, d, c\n",
    "df4 = df.reindex(index=['a', 'd', 'c'], columns=['Nakuru', 'Nairobi'])\n",
    "print(df4)\n",
    "df.loc[:, ['Nairobi', 'Eldoret', 'Kikuyu']] # loc can also be used to reindex but if given a missing index it returns an error"
   ]
  },
  {
   "cell_type": "code",
   "execution_count": null,
   "metadata": {},
   "outputs": [
    {
     "data": {
      "text/html": [
       "<div>\n",
       "<style scoped>\n",
       "    .dataframe tbody tr th:only-of-type {\n",
       "        vertical-align: middle;\n",
       "    }\n",
       "\n",
       "    .dataframe tbody tr th {\n",
       "        vertical-align: top;\n",
       "    }\n",
       "\n",
       "    .dataframe thead th {\n",
       "        text-align: right;\n",
       "    }\n",
       "</style>\n",
       "<table border=\"1\" class=\"dataframe\">\n",
       "  <thead>\n",
       "    <tr style=\"text-align: right;\">\n",
       "      <th></th>\n",
       "      <th>Nairobi</th>\n",
       "      <th>Kisumu</th>\n",
       "      <th>Naivasha</th>\n",
       "    </tr>\n",
       "  </thead>\n",
       "  <tbody>\n",
       "    <tr>\n",
       "      <th>a</th>\n",
       "      <td>1</td>\n",
       "      <td>10</td>\n",
       "      <td>2</td>\n",
       "    </tr>\n",
       "    <tr>\n",
       "      <th>b</th>\n",
       "      <td>6</td>\n",
       "      <td>10</td>\n",
       "      <td>7</td>\n",
       "    </tr>\n",
       "    <tr>\n",
       "      <th>c</th>\n",
       "      <td>11</td>\n",
       "      <td>10</td>\n",
       "      <td>12</td>\n",
       "    </tr>\n",
       "    <tr>\n",
       "      <th>d</th>\n",
       "      <td>16</td>\n",
       "      <td>10</td>\n",
       "      <td>17</td>\n",
       "    </tr>\n",
       "  </tbody>\n",
       "</table>\n",
       "</div>"
      ],
      "text/plain": [
       "   Nairobi  Kisumu  Naivasha\n",
       "a        1      10         2\n",
       "b        6      10         7\n",
       "c       11      10        12\n",
       "d       16      10        17"
      ]
     },
     "execution_count": 66,
     "metadata": {},
     "output_type": "execute_result"
    }
   ],
   "source": [
    "# Reindex with generator test\n",
    "def generator(i):\n",
    "    \"\"\"\n",
    "    A generator that returns numbers from 0 to i - 1\n",
    "    \"\"\"\n",
    "    num = -5\n",
    "    while num > i:\n",
    "        yield num\n",
    "        num += 1\n",
    "\n",
    "gen = generator(df.Nairobi.__len__())\n",
    "df2 = df.reindex(columns=['Nairobi', 'Kisumu', 'Naivasha'], fill_value=next(gen))\n",
    "df2\n",
    "# I don't know how to pass generator as fill_value"
   ]
  },
  {
   "cell_type": "code",
   "execution_count": null,
   "metadata": {},
   "outputs": [
    {
     "data": {
      "text/html": [
       "<div>\n",
       "<style scoped>\n",
       "    .dataframe tbody tr th:only-of-type {\n",
       "        vertical-align: middle;\n",
       "    }\n",
       "\n",
       "    .dataframe tbody tr th {\n",
       "        vertical-align: top;\n",
       "    }\n",
       "\n",
       "    .dataframe thead th {\n",
       "        text-align: right;\n",
       "    }\n",
       "</style>\n",
       "<table border=\"1\" class=\"dataframe\">\n",
       "  <thead>\n",
       "    <tr style=\"text-align: right;\">\n",
       "      <th></th>\n",
       "      <th>Nairobi</th>\n",
       "      <th>Naivasha</th>\n",
       "      <th>Nakuru</th>\n",
       "    </tr>\n",
       "  </thead>\n",
       "  <tbody>\n",
       "    <tr>\n",
       "      <th>a</th>\n",
       "      <td>1</td>\n",
       "      <td>2</td>\n",
       "      <td>3</td>\n",
       "    </tr>\n",
       "    <tr>\n",
       "      <th>b</th>\n",
       "      <td>6</td>\n",
       "      <td>7</td>\n",
       "      <td>8</td>\n",
       "    </tr>\n",
       "    <tr>\n",
       "      <th>d</th>\n",
       "      <td>16</td>\n",
       "      <td>17</td>\n",
       "      <td>18</td>\n",
       "    </tr>\n",
       "  </tbody>\n",
       "</table>\n",
       "</div>"
      ],
      "text/plain": [
       "   Nairobi  Naivasha  Nakuru\n",
       "a        1         2       3\n",
       "b        6         7       8\n",
       "d       16        17      18"
      ]
     },
     "execution_count": 68,
     "metadata": {},
     "output_type": "execute_result"
    }
   ],
   "source": [
    "# An easier way to drop values from a dataframe than using reindex is to use drop method\n",
    "df2 = df.drop(index=['c'], columns=['Machakos', 'Eldoret'])\n",
    "df2"
   ]
  },
  {
   "cell_type": "code",
   "execution_count": null,
   "metadata": {},
   "outputs": [
    {
     "name": "stdout",
     "output_type": "stream",
     "text": [
      "4    26\n",
      "3    35\n",
      "2    35\n",
      "1     3\n",
      "dtype: int64\n",
      "4    26\n",
      "3    35\n",
      "dtype: int64\n"
     ]
    }
   ],
   "source": [
    "# See pitfalls of indexing with []\n",
    "ex1 = Series(np.random.randint(50, size=4),\n",
    "                index=np.arange(4, 0, -1))\n",
    "print(ex1)\n",
    "# I want to get first 2 items\n",
    "# print(ex1[[0, 1]]) # Raises an error\n",
    "print(ex1.iloc[[0, 1]])"
   ]
  },
  {
   "cell_type": "code",
   "execution_count": null,
   "metadata": {},
   "outputs": [
    {
     "name": "stdout",
     "output_type": "stream",
     "text": [
      "   Nairobi  Naivasha  Nakuru  Eldoret  Machakos\n",
      "a        1         4       3        8         5\n",
      "b       12         7      16        9        20\n",
      "c       11        24      13       28        15\n",
      "d       32        17      36       19        40\n",
      "1\n",
      "16\n"
     ]
    }
   ],
   "source": [
    "# You want to multiply even results in the dataframe by 2 and do nothing to odd numbers\n",
    "df3 = np.where(df % 2 == 0, df * 2, df) # Can use np.where on a dataframe just that it will return an array\n",
    "df4 = df.copy()\n",
    "df4[df4 % 2 == 0] = 0\n",
    "df4\n",
    "df3 = DataFrame(df3, index=df.index, columns=df.columns)\n",
    "print(df3)\n",
    "# You can use at method to get single scalar value at intersection between row and col label or iat to get scalar value\n",
    "# at row and col position\n",
    "print(df3.at['a', 'Nairobi'])\n",
    "print(df3.iat[1, 2])"
   ]
  },
  {
   "cell_type": "code",
   "execution_count": null,
   "metadata": {},
   "outputs": [
    {
     "name": "stdout",
     "output_type": "stream",
     "text": [
      "a    3.0\n",
      "c    NaN\n",
      "d    NaN\n",
      "e    NaN\n",
      "f    NaN\n",
      "dtype: float64\n",
      "Better Version: \n",
      "a    3.0\n",
      "c    2.0\n",
      "d    3.0\n",
      "e    3.0\n",
      "f    4.0\n",
      "dtype: float64\n",
      "     a   b   c\n",
      "0  NaN NaN NaN\n",
      "1  2.0 NaN NaN\n",
      "2  NaN NaN NaN\n",
      "Better Version: \n",
      "     a    b    c\n",
      "0  1.0  1.0  NaN\n",
      "1  2.0  1.0  1.0\n",
      "2  1.0  NaN  1.0\n"
     ]
    }
   ],
   "source": [
    "# Combining pandas objects with arithmetic operations\n",
    "ser1 = Series([1, 2, 3], index=['a', 'c', 'd'])\n",
    "ser2 = Series([2, 3 , 4], index=['a', 'e', 'f'])\n",
    "print(ser1 + ser2)\n",
    "print('Better Version: ')\n",
    "print(ser1.add(ser2, fill_value=0))\n",
    "\n",
    "df1 = DataFrame(np.ones(shape=(2, 2)),\n",
    "                index=[0, 1],\n",
    "                columns=['a', 'b'])\n",
    "df2 = DataFrame(np.ones(shape=(2, 2)),\n",
    "                index=[1, 2],\n",
    "                columns=['a', 'c'])\n",
    "print(df1 + df2)\n",
    "print('Better Version: ')\n",
    "print(df1.add(df2, fill_value=0))"
   ]
  },
  {
   "cell_type": "code",
   "execution_count": null,
   "metadata": {},
   "outputs": [
    {
     "name": "stdout",
     "output_type": "stream",
     "text": [
      "    a   b   c   d   e\n",
      "0   0   1   2   3   4\n",
      "1   5   6   7   8   9\n",
      "2  10  11  12  13  14\n",
      "3  15  16  17  18  19\n",
      "    a   b   c   d   e\n",
      "0   5   5   8  12  11\n",
      "1  10  10  13  17  16\n",
      "2  15  15  18  22  21\n",
      "3  20  20  23  27  26\n",
      "    a   b   c   d   e\n",
      "0   5   6   7   8   9\n",
      "1   9  10  11  12  13\n",
      "2  16  17  18  19  20\n",
      "3  24  25  26  27  28\n"
     ]
    }
   ],
   "source": [
    "# Operations between a dataframe and series\n",
    "df = DataFrame(np.arange(20).reshape(4, 5),\n",
    "               columns=list('abcde'))\n",
    "print(df)\n",
    "# I want to add the value 5 to all items on column a, 4 to all on column b, 6 to c, 9 to d and 7 to e\n",
    "ser = Series([5, 4, 6, 9, 7], index=list('abcde'))\n",
    "print(df + ser) # By default it matches indexes of series to dataframe and broadcasts down the columns\n",
    "\n",
    "# If I wanted to add the values along the rows I'd use arithmetic function and specify axis parameter\n",
    "ser2 = Series([5, 4, 6, 9])\n",
    "print(df.add(ser2, axis='index'))"
   ]
  },
  {
   "cell_type": "code",
   "execution_count": null,
   "metadata": {},
   "outputs": [
    {
     "name": "stdout",
     "output_type": "stream",
     "text": [
      "Details\n",
      "bounties    1.452000e+09\n",
      "age         2.880000e+01\n",
      "dtype: float64\n"
     ]
    }
   ],
   "source": [
    "# You want to get the mean of the bounties and ages of the straw hats\n",
    "strawHats = DataFrame({\n",
    "    'name': ['Luffy', 'Zoro', 'Jinbe', 'Robin', 'Sanji'],\n",
    "    'bounties': [3_000_000_000, 1_100_000_000, 1_110_000_000, 1_000_000_000, 1_050_000_000],\n",
    "    'age': [20, 22, 50, 30, 22]\n",
    "})\n",
    "strawHats.set_index('name', inplace=True)\n",
    "strawHats.columns.name = 'Details'\n",
    "print(strawHats.apply(np.mean))"
   ]
  },
  {
   "cell_type": "code",
   "execution_count": null,
   "metadata": {},
   "outputs": [
    {
     "name": "stdout",
     "output_type": "stream",
     "text": [
      "Details    bounties  age\n",
      "name                    \n",
      "Jinbe    1110000000   50\n",
      "Luffy    3000000000   20\n",
      "Robin    1000000000   30\n",
      "Sanji    1050000000   22\n",
      "Zoro     1100000000   22\n",
      "Details    bounties  age\n",
      "name                    \n",
      "Robin    1000000000   30\n",
      "Sanji    1050000000   22\n",
      "Zoro     1100000000   22\n",
      "Jinbe    1110000000   50\n",
      "Luffy    3000000000   20\n"
     ]
    }
   ],
   "source": [
    "# Sort strawHats by rows\n",
    "sorted_strawHats = strawHats.sort_index(axis='index')\n",
    "print(sorted_strawHats)\n",
    "# Sort strawHats by bounties\n",
    "sorted_strawHats2 = strawHats.sort_values('bounties')\n",
    "print(sorted_strawHats2)"
   ]
  },
  {
   "cell_type": "code",
   "execution_count": null,
   "metadata": {},
   "outputs": [
    {
     "name": "stdout",
     "output_type": "stream",
     "text": [
      "    one  two\n",
      "a  1.40  NaN\n",
      "b  7.10 -4.5\n",
      "c   NaN  NaN\n",
      "d  0.75 -1.3\n",
      "one    9.25\n",
      "two   -5.80\n",
      "dtype: float64\n",
      "a    1.40\n",
      "b    2.60\n",
      "c    0.00\n",
      "d   -0.55\n",
      "dtype: float64\n",
      "one   NaN\n",
      "two   NaN\n",
      "dtype: float64\n",
      "   one  two\n",
      "a  1.4  NaN\n",
      "b  8.5  NaN\n",
      "c  NaN  NaN\n",
      "d  NaN  NaN\n",
      "count    3.000000\n",
      "mean     3.083333\n",
      "std      3.493685\n",
      "min      0.750000\n",
      "25%      1.075000\n",
      "50%      1.400000\n",
      "75%      4.250000\n",
      "max      7.100000\n",
      "Name: one, dtype: float64\n",
      "count    1.0\n",
      "mean     1.4\n",
      "std      NaN\n",
      "min      1.4\n",
      "25%      1.4\n",
      "50%      1.4\n",
      "75%      1.4\n",
      "max      1.4\n",
      "Name: a, dtype: float64\n",
      "5\n",
      "one    1\n",
      "two    2\n",
      "dtype: int64\n"
     ]
    }
   ],
   "source": [
    "# Performing summary statistics on a DataFrame - return a series\n",
    "null_df = DataFrame([[1.4, np.nan],\n",
    "                     [7.1, -4.5],\n",
    "                     [np.nan, np.nan],\n",
    "                     [0.75, -1.3]], index=list('abcd'), \n",
    "                     columns=['one', 'two'])\n",
    "print(null_df)\n",
    "# Compute sum summary statistic and deal with the NaN values\n",
    "print(null_df.sum()) # Returns Series of sum of column values\n",
    "print(null_df.sum(axis=1)) # Returns a Series containg sum of values of each row\n",
    "\n",
    "# If you want the result to be NaN when NaN is present set parameter skipna to False\n",
    "print(null_df.sum(skipna=False))\n",
    "\n",
    "# Other summary statistics\n",
    "print(null_df.cumsum(skipna=False)) # The cumsum of an item is set to NaN when value before it is NaN\n",
    "\n",
    "# Describe on a dataframe - get summary statistics of one and of a\n",
    "one_summary_stats = null_df.one.describe()\n",
    "print(one_summary_stats)\n",
    "a_summary_stats = null_df.loc['a'].describe()\n",
    "print(a_summary_stats)\n",
    "print(null_df.count().sum()) # Get count of all non NaN values in the whole dataframe\n",
    "print(null_df.isna().sum()) # Get how many NaN values are in each col"
   ]
  },
  {
   "cell_type": "code",
   "execution_count": null,
   "metadata": {},
   "outputs": [
    {
     "name": "stdout",
     "output_type": "stream",
     "text": [
      "a     True\n",
      "b    False\n",
      "c    False\n",
      "d    False\n",
      "Name: one, dtype: bool\n"
     ]
    },
    {
     "data": {
      "text/html": [
       "<div>\n",
       "<style scoped>\n",
       "    .dataframe tbody tr th:only-of-type {\n",
       "        vertical-align: middle;\n",
       "    }\n",
       "\n",
       "    .dataframe tbody tr th {\n",
       "        vertical-align: top;\n",
       "    }\n",
       "\n",
       "    .dataframe thead th {\n",
       "        text-align: right;\n",
       "    }\n",
       "</style>\n",
       "<table border=\"1\" class=\"dataframe\">\n",
       "  <thead>\n",
       "    <tr style=\"text-align: right;\">\n",
       "      <th></th>\n",
       "      <th>one</th>\n",
       "      <th>two</th>\n",
       "    </tr>\n",
       "  </thead>\n",
       "  <tbody>\n",
       "    <tr>\n",
       "      <th>a</th>\n",
       "      <td>1.4</td>\n",
       "      <td>NaN</td>\n",
       "    </tr>\n",
       "  </tbody>\n",
       "</table>\n",
       "</div>"
      ],
      "text/plain": [
       "   one  two\n",
       "a  1.4  NaN"
      ]
     },
     "execution_count": 128,
     "metadata": {},
     "output_type": "execute_result"
    }
   ],
   "source": [
    "# Return a boolen Series showing which index has 1.4 in it\n",
    "bool_ser = null_df.one.isin([1.4])\n",
    "print(bool_ser)\n",
    "null_df.loc[bool_ser] # You can index with a series of booleans"
   ]
  },
  {
   "cell_type": "code",
   "execution_count": null,
   "metadata": {},
   "outputs": [
    {
     "name": "stdout",
     "output_type": "stream",
     "text": [
      "        weather  windspeed\n",
      "city                      \n",
      "Nairobi    Cool         20\n",
      "Nakuru    Sunny         10\n",
      "Mombasa   Windy         40\n",
      "       weather  windspeed\n",
      "10         0.0        1.0\n",
      "20         0.0        1.0\n",
      "40         0.0        1.0\n",
      "Cool       1.0        0.0\n",
      "Sunny      1.0        0.0\n",
      "Windy      1.0        0.0\n",
      "Cool     1\n",
      "Sunny    1\n",
      "Windy    1\n",
      "Name: weather, dtype: int64\n"
     ]
    }
   ],
   "source": [
    "import pandas as pd\n",
    "weather_data = DataFrame({\n",
    "    'city': ['Nairobi', 'Nakuru', 'Mombasa'],\n",
    "    'weather': ['Cool', 'Sunny', 'Windy'],\n",
    "    'windspeed': [20, 10, 40]\n",
    "})\n",
    "weather_data.set_index('city', inplace=True)\n",
    "print(weather_data)\n",
    "\n",
    "# Get count of every item in dataframe\n",
    "print(weather_data.apply(pd.value_counts).fillna(0))\n",
    "\n",
    "# More useful to get the counts for a specific column\n",
    "print(weather_data.weather.value_counts())"
   ]
  },
  {
   "cell_type": "code",
   "execution_count": null,
   "metadata": {},
   "outputs": [
    {
     "name": "stdout",
     "output_type": "stream",
     "text": [
      "Cool\n"
     ]
    }
   ],
   "source": [
    "print(weather_data.at['Nairobi', 'weather'])"
   ]
  }
 ],
 "metadata": {
  "kernelspec": {
   "display_name": "Python 3.8.10 ('datasciencestar': venv)",
   "language": "python",
   "name": "python3"
  },
  "language_info": {
   "codemirror_mode": {
    "name": "ipython",
    "version": 3
   },
   "file_extension": ".py",
   "mimetype": "text/x-python",
   "name": "python",
   "nbconvert_exporter": "python",
   "pygments_lexer": "ipython3",
   "version": "3.8.10"
  },
  "orig_nbformat": 4,
  "vscode": {
   "interpreter": {
    "hash": "51c9cea8a4711522a4bf8b45c200e690e948b7adecc3dbdd4ef9333c51e9d22c"
   }
  }
 },
 "nbformat": 4,
 "nbformat_minor": 2
}
