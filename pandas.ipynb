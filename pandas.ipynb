{
 "cells": [
  {
   "cell_type": "markdown",
   "metadata": {},
   "source": [
    "Pandas is used in data analytics to get insights from large amounts of data\n",
    "\n",
    "<h1>Dataframe Basics</h1>\n",
    "<h3>Topics</h3>\n",
    "<ul>\n",
    "    <li>Creating Dataframe</li>\n",
    "    <li>Dealing with rows and columns</li>\n",
    "    <li>Operations:min, max, std, describe</li>\n",
    "    <li>Conditional Selection</li>\n",
    "    <li>set_index</li>\n",
    "</ul>\n",
    "<p>Dataframes are objects(methods and attributes) that are used to represent tabular data e.g excel files, CSVs, SQL etc</p>"
   ]
  },
  {
   "cell_type": "code",
   "execution_count": 4,
   "metadata": {},
   "outputs": [
    {
     "name": "stdout",
     "output_type": "stream",
     "text": [
      "(6, 4)\n",
      "        day  temperature  windspeed  event\n",
      "0  1/1/2017           32          6   Rain\n",
      "1  1/2/2017           35          7  Sunny\n",
      "2  1/3/2017           28          2   Snow\n",
      "3  1/4/2017           24          7   Snow\n",
      "4  1/5/2017           32          4   Rain\n"
     ]
    }
   ],
   "source": [
    "import pandas as pd\n",
    "# Importing data to dataframe\n",
    "df = pd.read_csv(\"weather_data_nyc_centralpark_2016(1).csv\") # Specify name of csv and use pd.read_csv\n",
    "\n",
    "# Dataframe from python dictionary where the keys are column names an rows are values\n",
    "dict1 = {\n",
    "    'day': ['1/1/2017', '1/2/2017', '1/3/2017', '1/4/2017', '1/5/2017', '1/6/2017'],\n",
    "    'temperature': [32, 35, 28, 24, 32, 31],\n",
    "    'windspeed': [6, 7, 2, 7, 4, 2],\n",
    "    'event': ['Rain', 'Sunny', 'Snow', 'Snow', 'Rain', 'Sunny']\n",
    "}\n",
    "df2 = pd.DataFrame(dict1)\n",
    "print(df2.shape) # Gets number of rows and columns in dataframe\n",
    "print(df2.head())  # Gets inital rows, df.tail(x) prints last x rows\n",
    "print(df2.columns) # Prints the columns in the dataframe\n",
    "\n",
    "# Printing shape, first or last x rows, columns"
   ]
  },
  {
   "cell_type": "code",
   "execution_count": 10,
   "metadata": {},
   "outputs": [
    {
     "name": "stdout",
     "output_type": "stream",
     "text": [
      "        day  temperature  windspeed event\n",
      "2  1/3/2017           28          2  Snow\n",
      "3  1/4/2017           24          7  Snow\n",
      "4  1/5/2017           32          4  Rain\n",
      "0    1/1/2017\n",
      "1    1/2/2017\n",
      "2    1/3/2017\n",
      "3    1/4/2017\n",
      "4    1/5/2017\n",
      "5    1/6/2017\n",
      "Name: day, dtype: object\n",
      "1/1/2017\n",
      "        day  event  temperature\n",
      "0  1/1/2017   Rain           32\n",
      "1  1/2/2017  Sunny           35\n",
      "2  1/3/2017   Snow           28\n",
      "3  1/4/2017   Snow           24\n",
      "4  1/5/2017   Rain           32\n",
      "5  1/6/2017  Sunny           31\n"
     ]
    }
   ],
   "source": [
    "# Indexing dataframe\n",
    "print(df2[2:5])  # Returns a new dataframe that contains the 2nd to 4th rows of dataframe(rows and columns)\n",
    "print(df2['day']) # Returns series containing data in specific column\n",
    "# To get a specific item, index the column and row e.g\n",
    "print(df2['day'][0])\n",
    "# To get multiple columns index with a list of column names\n",
    "print(df2[['day', 'event', 'temperature']]) # Returns a new dataframe with only the specified columns"
   ]
  },
  {
   "cell_type": "code",
   "execution_count": 16,
   "metadata": {},
   "outputs": [
    {
     "name": "stdout",
     "output_type": "stream",
     "text": [
      "35\n",
      "       temperature  windspeed\n",
      "count     6.000000   6.000000\n",
      "mean     30.333333   4.666667\n",
      "std       3.829708   2.338090\n",
      "min      24.000000   2.000000\n",
      "25%      28.750000   2.500000\n",
      "50%      31.500000   5.000000\n",
      "75%      32.000000   6.750000\n",
      "max      35.000000   7.000000\n",
      "        day  temperature  windspeed  event\n",
      "1  1/2/2017           35          7  Sunny\n",
      "        day  temperature\n",
      "0  1/1/2017           32\n",
      "1  1/2/2017           35\n",
      "4  1/5/2017           32\n"
     ]
    },
    {
     "ename": "TypeError",
     "evalue": "corr() missing 1 required positional argument: 'other'",
     "output_type": "error",
     "traceback": [
      "\u001b[0;31m---------------------------------------------------------------------------\u001b[0m",
      "\u001b[0;31mTypeError\u001b[0m                                 Traceback (most recent call last)",
      "Cell \u001b[0;32mIn [16], line 8\u001b[0m\n\u001b[1;32m      6\u001b[0m \u001b[38;5;28mprint\u001b[39m(df2[df2\u001b[38;5;241m.\u001b[39mtemperature \u001b[38;5;241m>\u001b[39m \u001b[38;5;241m32\u001b[39m]) \u001b[38;5;66;03m# -> Select all columns were temperature > 32\u001b[39;00m\n\u001b[1;32m      7\u001b[0m \u001b[38;5;28mprint\u001b[39m(df2[[\u001b[38;5;124m'\u001b[39m\u001b[38;5;124mday\u001b[39m\u001b[38;5;124m'\u001b[39m, \u001b[38;5;124m'\u001b[39m\u001b[38;5;124mtemperature\u001b[39m\u001b[38;5;124m'\u001b[39m]][df2\u001b[38;5;241m.\u001b[39mtemperature \u001b[38;5;241m>\u001b[39m\u001b[38;5;241m=\u001b[39m \u001b[38;5;241m32\u001b[39m]) \u001b[38;5;66;03m# -> Select day, temperature FROM df2 WHERE temperature >= 32\u001b[39;00m\n\u001b[0;32m----> 8\u001b[0m \u001b[38;5;28mprint\u001b[39m(\u001b[43mdf2\u001b[49m\u001b[43m[\u001b[49m\u001b[38;5;124;43m'\u001b[39;49m\u001b[38;5;124;43mtemperature\u001b[39;49m\u001b[38;5;124;43m'\u001b[39;49m\u001b[43m]\u001b[49m\u001b[38;5;241;43m.\u001b[39;49m\u001b[43mcorr\u001b[49m\u001b[43m(\u001b[49m\u001b[43m)\u001b[49m)\n",
      "\u001b[0;31mTypeError\u001b[0m: corr() missing 1 required positional argument: 'other'"
     ]
    }
   ],
   "source": [
    "# Operations\n",
    "print(df2['temperature'].max())  # Get biggest element\n",
    "# Mean - .mean(), Std - .std(), .min()\n",
    "print(df2.describe()) # To get general stats\n",
    "# You can also index with a condition\n",
    "print(df2[df2.temperature > 32]) # -> Select all columns were temperature > 32\n",
    "print(df2[['day', 'temperature']][df2.temperature >= 32]) # -> Select day, temperature FROM df2 WHERE temperature >= 32"
   ]
  }
 ],
 "metadata": {
  "kernelspec": {
   "display_name": "Python 3.8.10 ('datasciencestar': venv)",
   "language": "python",
   "name": "python3"
  },
  "language_info": {
   "codemirror_mode": {
    "name": "ipython",
    "version": 3
   },
   "file_extension": ".py",
   "mimetype": "text/x-python",
   "name": "python",
   "nbconvert_exporter": "python",
   "pygments_lexer": "ipython3",
   "version": "3.8.10"
  },
  "orig_nbformat": 4,
  "vscode": {
   "interpreter": {
    "hash": "51c9cea8a4711522a4bf8b45c200e690e948b7adecc3dbdd4ef9333c51e9d22c"
   }
  }
 },
 "nbformat": 4,
 "nbformat_minor": 2
}
