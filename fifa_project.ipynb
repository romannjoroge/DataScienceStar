{
 "cells": [
  {
   "cell_type": "markdown",
   "metadata": {},
   "source": [
    "<h1>FIFA Project</h1>\n",
    "<h3>Goal</h3>\n",
    "<p>To scrape world cup data from wikipedia and plot them as many various plots</p>"
   ]
  },
  {
   "cell_type": "code",
   "execution_count": 1,
   "metadata": {},
   "outputs": [
    {
     "name": "stdout",
     "output_type": "stream",
     "text": [
      "<class 'list'>\n",
      "               Year          Winners                 Score[2]  \\\n",
      "0              1930          Uruguay                      4–2   \n",
      "1              1934            Italy             2–1 (a.e.t.)   \n",
      "2              1938            Italy                      4–2   \n",
      "3              1950          Uruguay                2–1 [n 3]   \n",
      "4              1954     West Germany                      3–2   \n",
      "5              1958           Brazil                      5–2   \n",
      "6              1962           Brazil                      3–1   \n",
      "7              1966          England             4–2 (a.e.t.)   \n",
      "8              1970           Brazil                      4–1   \n",
      "9              1974     West Germany                      2–1   \n",
      "10             1978        Argentina             3–1 (a.e.t.)   \n",
      "11             1982            Italy                      3–1   \n",
      "12             1986        Argentina                      3–2   \n",
      "13             1990     West Germany                      1–0   \n",
      "14             1994           Brazil  0–0 (a.e.t.) (3–2 pen.)   \n",
      "15             1998           France                      3–0   \n",
      "16             2002           Brazil                      2–0   \n",
      "17             2006            Italy  1–1 (a.e.t.) (5–3 pen.)   \n",
      "18             2010            Spain             1–0 (a.e.t.)   \n",
      "19             2014          Germany             1–0 (a.e.t.)   \n",
      "20             2018           France                      4–2   \n",
      "21  Upcoming finals  Upcoming finals          Upcoming finals   \n",
      "22             Year        Finalists                    Match   \n",
      "23             2022              NaN                        v   \n",
      "24             2026              NaN                        v   \n",
      "\n",
      "         Runners-up                        Venue  \\\n",
      "0         Argentina           Estadio Centenario   \n",
      "1    Czechoslovakia         Stadio Nazionale PNF   \n",
      "2           Hungary  Stade Olympique de Colombes   \n",
      "3            Brazil             Maracanã Stadium   \n",
      "4           Hungary             Wankdorf Stadium   \n",
      "5            Sweden              Råsunda Stadium   \n",
      "6    Czechoslovakia             Estadio Nacional   \n",
      "7      West Germany              Wembley Stadium   \n",
      "8             Italy               Estadio Azteca   \n",
      "9       Netherlands               Olympiastadion   \n",
      "10      Netherlands           Estadio Monumental   \n",
      "11     West Germany            Santiago Bernabéu   \n",
      "12     West Germany               Estadio Azteca   \n",
      "13        Argentina              Stadio Olimpico   \n",
      "14            Italy                    Rose Bowl   \n",
      "15           Brazil              Stade de France   \n",
      "16          Germany        International Stadium   \n",
      "17           France               Olympiastadion   \n",
      "18      Netherlands                  Soccer City   \n",
      "19        Argentina             Maracanã Stadium   \n",
      "20          Croatia             Luzhniki Stadium   \n",
      "21  Upcoming finals              Upcoming finals   \n",
      "22        Finalists                        Venue   \n",
      "23              NaN        Lusail Iconic Stadium   \n",
      "24              NaN                          TBA   \n",
      "\n",
      "                                 Location       Attendance             Refs  \n",
      "0                     Montevideo, Uruguay            68346           [7][8]  \n",
      "1                             Rome, Italy            55000          [9][10]  \n",
      "2                Colombes (Paris), France            45000         [11][12]  \n",
      "3                  Rio de Janeiro, Brazil           173850         [13][14]  \n",
      "4                       Bern, Switzerland            62500         [15][16]  \n",
      "5               Solna (Stockholm), Sweden            51800         [17][18]  \n",
      "6                         Santiago, Chile            69000         [19][20]  \n",
      "7                         London, England            96924         [21][22]  \n",
      "8                     Mexico City, Mexico           107412         [23][24]  \n",
      "9                    Munich, West Germany            75200         [25][26]  \n",
      "10                Buenos Aires, Argentina            71483         [27][28]  \n",
      "11                          Madrid, Spain            90000         [29][30]  \n",
      "12                    Mexico City, Mexico           114600         [31][32]  \n",
      "13                            Rome, Italy            73603         [33][34]  \n",
      "14  Pasadena (Los Angeles), United States            94194         [35][36]  \n",
      "15            Saint-Denis (Paris), France            75000         [37][38]  \n",
      "16                        Yokohama, Japan            69029         [39][40]  \n",
      "17                        Berlin, Germany            69000         [41][42]  \n",
      "18             Johannesburg, South Africa            84490         [43][44]  \n",
      "19                 Rio de Janeiro, Brazil            74738         [45][46]  \n",
      "20                         Moscow, Russia            78011         [47][48]  \n",
      "21                        Upcoming finals  Upcoming finals  Upcoming finals  \n",
      "22                               Location       Attendance             Refs  \n",
      "23                   Lusail (Doha), Qatar              NaN              NaN  \n",
      "24                                    TBA              NaN              NaN  \n"
     ]
    }
   ],
   "source": [
    "# Wikipedia article is List of FIFA World Cup finals\n",
    "import pandas as pd\n",
    "import numpy as np\n",
    "\n",
    "# Scraped all the tables in the webpage and stored them in a list\n",
    "tables = pd.read_html('https://en.wikipedia.org/wiki/List_of_FIFA_World_Cup_finals')\n",
    "\n",
    "# This slice contains 3 tables: List of finals of the FIFA World Cup, Results by Nation, Results by confederation\n",
    "fifa_tables = tables[3:6]\n",
    "print(type(fifa_tables))\n",
    "print(fifa_tables[0])\n"
   ]
  },
  {
   "cell_type": "code",
   "execution_count": 2,
   "metadata": {},
   "outputs": [
    {
     "name": "stdout",
     "output_type": "stream",
     "text": [
      "        Winners      Runners-up\n",
      "Year                           \n",
      "1930    Uruguay       Argentina\n",
      "1934      Italy  Czechoslovakia\n",
      "1938      Italy         Hungary\n",
      "1950    Uruguay          Brazil\n",
      "1954    Germany         Hungary\n",
      "1958     Brazil          Sweden\n",
      "1962     Brazil  Czechoslovakia\n",
      "1966    England         Germany\n",
      "1970     Brazil           Italy\n",
      "1974    Germany     Netherlands\n",
      "1978  Argentina     Netherlands\n",
      "1982      Italy         Germany\n",
      "1986  Argentina         Germany\n",
      "1990    Germany       Argentina\n",
      "1994     Brazil           Italy\n",
      "1998     France          Brazil\n",
      "2002     Brazil         Germany\n",
      "2006      Italy          France\n",
      "2010      Spain     Netherlands\n",
      "2014    Germany       Argentina\n",
      "2018     France         Croatia\n"
     ]
    }
   ],
   "source": [
    "# Getting a copy of the list of finals table to work with\n",
    "finals_tabel = fifa_tables[0].copy()\n",
    "\n",
    "# Changing the index of finals_table to year\n",
    "finals_tabel.set_index('Year', inplace=True)\n",
    "\n",
    "# Reindexing to get necessary tables: Winners and Runners-up\n",
    "finals_tabel_useful = finals_tabel.reindex(columns=['Winners', 'Runners-up'])\n",
    "\n",
    "# Removing unnecessary rows: Upcoming finals, Year, 2022, 2026\n",
    "finals_tabel_useful = finals_tabel_useful.drop(index=['Upcoming finals', 'Year', '2022', '2026'])\n",
    "finals_tabel_useful.replace('West Germany', 'Germany', inplace=True)\n",
    "print(finals_tabel_useful)"
   ]
  },
  {
   "cell_type": "code",
   "execution_count": 3,
   "metadata": {},
   "outputs": [
    {
     "name": "stdout",
     "output_type": "stream",
     "text": [
      "   Code             Association                  National teams    Founded  \\\n",
      "0   ALB                 Albania  Men'sU21U19U17FBSWomen'sU19U17       1930   \n",
      "1   AND                 Andorra  Men'sU21U19U17FBSWomen'sU19U17       1994   \n",
      "2   ARM                 Armenia  Men'sU21U19U17FBSWomen'sU19U17       1992   \n",
      "3   AUT                 Austria  Men'sU21U19U17FBSWomen'sU19U17       1904   \n",
      "4   AZE              Azerbaijan  Men'sU21U19U17FBSWomen'sU19U17       1992   \n",
      "5   BLR                 Belarus  Men'sU21U19U17FBSWomen'sU19U17       1989   \n",
      "6   BEL                 Belgium  Men'sU21U19U17FBSWomen'sU19U17       1895   \n",
      "7   BIH  Bosnia and Herzegovina  Men'sU21U19U17FBSWomen'sU19U17       1946   \n",
      "8   BUL                Bulgaria  Men'sU21U19U17FBSWomen'sU19U17       1923   \n",
      "9   CRO                 Croatia  Men'sU21U19U17FBSWomen'sU19U17       1912   \n",
      "10  CYP                  Cyprus  Men'sU21U19U17FBSWomen'sU19U17       1934   \n",
      "11  CZE          Czech Republic  Men'sU21U19U17FBSWomen'sU19U17       1901   \n",
      "12  DEN                 Denmark  Men'sU21U19U17FBSWomen'sU19U17       1889   \n",
      "13  ENG                 England  Men'sU21U19U17FBSWomen'sU19U17       1863   \n",
      "14  EST                 Estonia  Men'sU21U19U17FBSWomen'sU19U17       1921   \n",
      "15  FRO           Faroe Islands  Men'sU21U19U17FBSWomen'sU19U17       1979   \n",
      "16  FIN                 Finland  Men'sU21U19U17FBSWomen'sU19U17       1907   \n",
      "17  FRA                  France  Men'sU21U19U17FBSWomen'sU19U17  1919[n 2]   \n",
      "18  GEO                 Georgia  Men'sU21U19U17FBSWomen'sU19U17       1990   \n",
      "19  GER                 Germany  Men'sU21U19U17FBSWomen'sU19U17       1900   \n",
      "20  GIB               Gibraltar  Men'sU21U19U17FBSWomen'sU19U17       1895   \n",
      "21  GRE                  Greece  Men'sU21U19U17FBSWomen'sU19U17       1926   \n",
      "22  HUN                 Hungary  Men'sU21U19U17FBSWomen'sU19U17       1901   \n",
      "23  ISL                 Iceland  Men'sU21U19U17FBSWomen'sU19U17  1947[n 4]   \n",
      "24  ISR             Israel[n 5]  Men'sU21U19U17FBSWomen'sU19U17       1928   \n",
      "25  ITA                   Italy  Men'sU21U19U17FBSWomen'sU19U17       1898   \n",
      "26  KAZ         Kazakhstan[n 7]  Men'sU21U19U17FBSWomen'sU19U17       1994   \n",
      "27  KOS                  Kosovo  Men'sU21U19U17FBSWomen'sU19U17       2008   \n",
      "28  LVA                  Latvia  Men'sU21U19U17FBSWomen'sU19U17       1921   \n",
      "29  LIE           Liechtenstein  Men'sU21U19U17FBSWomen'sU19U17       1934   \n",
      "30  LTU               Lithuania  Men'sU21U19U17FBSWomen'sU19U17       1922   \n",
      "31  LUX              Luxembourg  Men'sU21U19U17FBSWomen'sU19U17       1908   \n",
      "32  MLT                   Malta  Men'sU21U19U17FBSWomen'sU19U17       1900   \n",
      "33  MDA                 Moldova  Men'sU21U19U17FBSWomen'sU19U17       1990   \n",
      "34  MNE              Montenegro  Men'sU21U19U17FBSWomen'sU19U17       1931   \n",
      "35  NED             Netherlands  Men'sU21U19U17FBSWomen'sU19U17       1889   \n",
      "36  MKD         North Macedonia  Men'sU21U19U17FBSWomen'sU19U17       1926   \n",
      "37  NIR        Northern Ireland  Men'sU21U19U17FBSWomen'sU19U17       1880   \n",
      "38  NOR                  Norway  Men'sU21U19U17FBSWomen'sU19U17       1902   \n",
      "39  POL                  Poland  Men'sU21U19U17FBSWomen'sU19U17  1919[n 9]   \n",
      "40  POR                Portugal  Men'sU21U19U17FBSWomen'sU19U17       1914   \n",
      "41  IRL     Republic of Ireland  Men'sU21U19U17FBSWomen'sU19U17       1921   \n",
      "42  ROU                 Romania  Men'sU21U19U17FBSWomen'sU19U17       1909   \n",
      "43  RUS                  Russia  Men'sU21U19U17FBSWomen'sU19U17       1912   \n",
      "44  SMR              San Marino  Men'sU21U19U17FBSWomen'sU19U17       1931   \n",
      "45  SCO                Scotland  Men'sU21U19U17FBSWomen'sU19U17       1873   \n",
      "46  SRB                  Serbia  Men'sU21U19U17FBSWomen'sU19U17       1919   \n",
      "47  SVK                Slovakia  Men'sU21U19U17FBSWomen'sU19U17       1938   \n",
      "48  SVN                Slovenia  Men'sU21U19U17FBSWomen'sU19U17       1920   \n",
      "49  ESP                   Spain  Men'sU21U19U17FBSWomen'sU19U17       1909   \n",
      "50  SWE                  Sweden  Men'sU21U19U17FBSWomen'sU19U17       1904   \n",
      "51  SUI             Switzerland  Men'sU21U19U17FBSWomen'sU19U17       1895   \n",
      "52  TUR                  Turkey  Men'sU21U19U17FBSWomen'sU19U17       1923   \n",
      "53  UKR                 Ukraine  Men'sU21U19U17FBSWomen'sU19U17       1991   \n",
      "54  WAL                   Wales  Men'sU21U19U17FBSWomen'sU19U17       1876   \n",
      "\n",
      "   FIFA affiliation UEFA affiliation IOC member  \n",
      "0              1932             1954        Yes  \n",
      "1              1996             1996        Yes  \n",
      "2              1992             1992        Yes  \n",
      "3              1905             1954        Yes  \n",
      "4              1994             1994        Yes  \n",
      "5              1992             1993        Yes  \n",
      "6              1904             1954        Yes  \n",
      "7              1996             1998        Yes  \n",
      "8              1924             1954        Yes  \n",
      "9              1992             1993        Yes  \n",
      "10             1948             1962        Yes  \n",
      "11             1907             1954        Yes  \n",
      "12             1904             1954        Yes  \n",
      "13             1905             1954    No[n 1]  \n",
      "14             1923             1992        Yes  \n",
      "15             1988             1990         No  \n",
      "16             1908             1954        Yes  \n",
      "17        1904[n 3]             1954        Yes  \n",
      "18             1992             1992        Yes  \n",
      "19             1904             1954        Yes  \n",
      "20             2016             2013         No  \n",
      "21             1927             1954        Yes  \n",
      "22             1906             1954        Yes  \n",
      "23             1947             1954        Yes  \n",
      "24             1929        1994[n 6]        Yes  \n",
      "25             1905             1954        Yes  \n",
      "26             1994             2002   Yes[n 8]  \n",
      "27             2016             2016        Yes  \n",
      "28             1922             1992        Yes  \n",
      "29             1974             1974        Yes  \n",
      "30             1923             1992        Yes  \n",
      "31             1910             1954        Yes  \n",
      "32             1959             1960        Yes  \n",
      "33             1994             1993        Yes  \n",
      "34             2007             2007        Yes  \n",
      "35             1904             1954        Yes  \n",
      "36             1994             1994        Yes  \n",
      "37             1911             1954    No[n 1]  \n",
      "38             1908             1954        Yes  \n",
      "39             1923             1954        Yes  \n",
      "40             1923             1954        Yes  \n",
      "41             1923             1954        Yes  \n",
      "42             1923             1954        Yes  \n",
      "43             1912             1954        Yes  \n",
      "44             1988             1988        Yes  \n",
      "45             1910             1954    No[n 1]  \n",
      "46             1921             1954        Yes  \n",
      "47             1994             1993        Yes  \n",
      "48             1992             1992        Yes  \n",
      "49             1904             1954        Yes  \n",
      "50             1904             1954        Yes  \n",
      "51             1904             1954        Yes  \n",
      "52             1923             1962        Yes  \n",
      "53             1992             1992        Yes  \n",
      "54             1910             1954    No[n 1]  \n"
     ]
    }
   ],
   "source": [
    "# Importing association information\n",
    "uefa_list = pd.read_html('https://en.wikipedia.org/wiki/UEFA')\n",
    "\n",
    "# Isolating UEFA member country table\n",
    "uefa = uefa_list[3].copy()\n",
    "print(uefa)"
   ]
  },
  {
   "cell_type": "code",
   "execution_count": 4,
   "metadata": {},
   "outputs": [
    {
     "name": "stdout",
     "output_type": "stream",
     "text": [
      "  Association Code\n",
      "0     Albania  ALB\n",
      "1     Andorra  AND\n",
      "2     Armenia  ARM\n",
      "3     Austria  AUT\n",
      "4  Azerbaijan  AZE\n"
     ]
    }
   ],
   "source": [
    "# Get useful columns from uefa\n",
    "uefa_useful = uefa.reindex(columns=['Association', 'Code'])\n",
    "print(uefa_useful.head())"
   ]
  },
  {
   "cell_type": "code",
   "execution_count": 5,
   "metadata": {},
   "outputs": [],
   "source": [
    "# Getting CONMEBOL information\n",
    "conmebol_tables = pd.read_html('https://en.wikipedia.org/wiki/CONMEBOL')\n",
    "\n",
    "# Isolating table with country and country code information\n",
    "conmebol = conmebol_tables[4]"
   ]
  },
  {
   "cell_type": "code",
   "execution_count": 6,
   "metadata": {},
   "outputs": [
    {
     "name": "stdout",
     "output_type": "stream",
     "text": [
      "  Association Code\n",
      "0   Argentina  ARG\n",
      "1     Bolivia  BOL\n",
      "2      Brazil  BRA\n",
      "3       Chile  CHI\n",
      "4    Colombia  COL\n",
      "5     Ecuador  ECU\n",
      "6    Paraguay  PAR\n",
      "7        Peru  PER\n",
      "8     Uruguay  URU\n",
      "9   Venezuela  VEN\n"
     ]
    }
   ],
   "source": [
    "# Reindexing to only have Association and Code columns\n",
    "conmebol_useful = conmebol.reindex(columns=['Association', 'Code'])\n",
    "print(conmebol_useful)"
   ]
  },
  {
   "cell_type": "code",
   "execution_count": 7,
   "metadata": {},
   "outputs": [
    {
     "name": "stdout",
     "output_type": "stream",
     "text": [
      "   Association      Country Code\n",
      "0         UEFA    Argentina  ARG\n",
      "1         UEFA      Bolivia  BOL\n",
      "2         UEFA       Brazil  BRA\n",
      "3         UEFA        Chile  CHI\n",
      "4         UEFA     Colombia  COL\n",
      "..         ...          ...  ...\n",
      "60    CONMEBOL       Sweden  SWE\n",
      "61    CONMEBOL  Switzerland  SUI\n",
      "62    CONMEBOL       Turkey  TUR\n",
      "63    CONMEBOL      Ukraine  UKR\n",
      "64    CONMEBOL        Wales  WAL\n",
      "\n",
      "[65 rows x 3 columns]\n"
     ]
    }
   ],
   "source": [
    "# Concatenate the 2 association dataframes\n",
    "associations = pd.concat([conmebol_useful, uefa_useful], keys=['UEFA', 'CONMEBOL'])\n",
    "\n",
    "# This gives as a dataframe that we merge with fifa tables to get association and country code for each table\n",
    "associations.reset_index(inplace=True)\n",
    "\n",
    "# Remove unnecesary columns\n",
    "associations = associations.drop(columns=['level_1'])\n",
    "\n",
    "# Renaming columns to more sensible names\n",
    "associations.rename(columns={\n",
    "    'level_0':'Association',\n",
    "    'Association': 'Country'\n",
    "}, inplace=True)\n",
    "print(associations)"
   ]
  },
  {
   "cell_type": "code",
   "execution_count": 8,
   "metadata": {},
   "outputs": [
    {
     "name": "stdout",
     "output_type": "stream",
     "text": [
      "         Winners                      Runners Up                 \n",
      "     Association    Country Code         Country Association Code\n",
      "Year                                                             \n",
      "1930        UEFA    Uruguay  URU       Argentina        UEFA  ARG\n",
      "1934    CONMEBOL      Italy  ITA  Czechoslovakia         NaN  NaN\n",
      "1938    CONMEBOL      Italy  ITA         Hungary    CONMEBOL  HUN\n",
      "1950        UEFA    Uruguay  URU          Brazil        UEFA  BRA\n",
      "1954    CONMEBOL    Germany  GER         Hungary    CONMEBOL  HUN\n",
      "1958        UEFA     Brazil  BRA          Sweden    CONMEBOL  SWE\n",
      "1962        UEFA     Brazil  BRA  Czechoslovakia         NaN  NaN\n",
      "1966    CONMEBOL    England  ENG         Germany    CONMEBOL  GER\n",
      "1970        UEFA     Brazil  BRA           Italy    CONMEBOL  ITA\n",
      "1974    CONMEBOL    Germany  GER     Netherlands    CONMEBOL  NED\n",
      "1978        UEFA  Argentina  ARG     Netherlands    CONMEBOL  NED\n",
      "1982    CONMEBOL      Italy  ITA         Germany    CONMEBOL  GER\n",
      "1986        UEFA  Argentina  ARG         Germany    CONMEBOL  GER\n",
      "1990    CONMEBOL    Germany  GER       Argentina        UEFA  ARG\n",
      "1994        UEFA     Brazil  BRA           Italy    CONMEBOL  ITA\n",
      "1998    CONMEBOL     France  FRA          Brazil        UEFA  BRA\n",
      "2002        UEFA     Brazil  BRA         Germany    CONMEBOL  GER\n",
      "2006    CONMEBOL      Italy  ITA          France    CONMEBOL  FRA\n",
      "2010    CONMEBOL      Spain  ESP     Netherlands    CONMEBOL  NED\n",
      "2014    CONMEBOL    Germany  GER       Argentina        UEFA  ARG\n",
      "2018    CONMEBOL     France  FRA         Croatia    CONMEBOL  CRO\n"
     ]
    }
   ],
   "source": [
    "# Merge finals_table_useful and associations to form winners and runners up tables\n",
    "winners_merged = pd.merge(finals_tabel_useful, associations, left_on='Winners', right_on='Country', how='left')\n",
    "winners_merged = winners_merged.drop(columns=['Runners-up', 'Winners'])\n",
    "\n",
    "# Repeat to get runners up table\n",
    "runners_up_merged = pd.merge(finals_tabel_useful, associations, how='left', left_on='Runners-up', right_on='Country')\n",
    "runners_up_merged = runners_up_merged.drop(columns=['Winners', 'Country'])\n",
    "# Renaming runners-up column to Country\n",
    "runners_up_merged.rename(columns={\n",
    "    'Runners-up': 'Country'\n",
    "}, inplace=True)\n",
    "\n",
    "# Concatenate the winners and runners-up dataframes\n",
    "finals_concatenated = pd.concat([winners_merged, runners_up_merged], axis=1, keys=['Winners', 'Runners Up'])\n",
    "\n",
    "# Setting years as index of finals_concatenated\n",
    "finals_concatenated.index = finals_tabel_useful.index\n",
    "print(finals_concatenated)"
   ]
  },
  {
   "cell_type": "code",
   "execution_count": 9,
   "metadata": {},
   "outputs": [
    {
     "name": "stdout",
     "output_type": "stream",
     "text": [
      "                Won  Runnner Up  finals\n",
      "Country                                \n",
      "Argentina       2.0         3.0     5.0\n",
      "Brazil          5.0         2.0     7.0\n",
      "England         1.0         NaN     1.0\n",
      "France          2.0         1.0     3.0\n",
      "Germany         4.0         4.0     8.0\n",
      "Italy           4.0         2.0     6.0\n",
      "Spain           1.0         NaN     1.0\n",
      "Uruguay         2.0         NaN     2.0\n",
      "Croatia         NaN         1.0     1.0\n",
      "Czechoslovakia  NaN         2.0     2.0\n",
      "Hungary         NaN         2.0     2.0\n",
      "Netherlands     NaN         3.0     3.0\n",
      "Sweden          NaN         1.0     1.0\n"
     ]
    }
   ],
   "source": [
    "# Grouping winners_merged and runners_up_merged by County\n",
    "winners_group = winners_merged.groupby('Country')\n",
    "runners_group = runners_up_merged.groupby('Country')\n",
    "\n",
    "# Getting size of the groups and storing in df\n",
    "number_won = winners_group.size()\n",
    "number_runner_up = runners_group.size()\n",
    "number_won.name = 'Won'\n",
    "number_runner_up.name = 'Runnner Up'\n",
    "\n",
    "# Concatenating the 2 dataframes\n",
    "runners_winners_merged = pd.concat([number_won, number_runner_up], join='outer', axis=1)\n",
    "runners_winners_merged['finals'] = runners_winners_merged.sum(axis=1)\n",
    "print(runners_winners_merged)\n",
    "# print(number_won, number_runner_up, sep='\\n')"
   ]
  },
  {
   "cell_type": "code",
   "execution_count": 10,
   "metadata": {},
   "outputs": [
    {
     "name": "stdout",
     "output_type": "stream",
     "text": [
      "Country\n",
      "Argentina         3\n",
      "Brazil            2\n",
      "Croatia           1\n",
      "Czechoslovakia    2\n",
      "France            1\n",
      "Germany           4\n",
      "Hungary           2\n",
      "Italy             2\n",
      "Netherlands       3\n",
      "Sweden            1\n",
      "Name: Runnner Up, dtype: int64\n"
     ]
    }
   ],
   "source": [
    "print(number_runner_up)"
   ]
  },
  {
   "cell_type": "code",
   "execution_count": 20,
   "metadata": {},
   "outputs": [
    {
     "name": "stdout",
     "output_type": "stream",
     "text": [
      "Argentina               [1930, 1990, 2014]\n",
      "Brazil                        [1950, 1998]\n",
      "Croatia                             [2018]\n",
      "Czechoslovakia                [1934, 1962]\n",
      "France                              [2006]\n",
      "Germany           [1966, 1982, 1986, 2002]\n",
      "Hungary                       [1938, 1954]\n",
      "Italy                         [1970, 1994]\n",
      "Netherlands             [1974, 1978, 2010]\n",
      "Sweden                              [1958]\n",
      "Name: Years runners-up, dtype: object\n"
     ]
    }
   ],
   "source": [
    "# Have final_tables_useful - winning country, runners up and year. I want to get years won for every country and years runner up for every county\n",
    "print(finals_tabel_useful)\n",
    "# Group df by winning column to get info per country\n",
    "winning_group = finals_tabel_useful.groupby('Winners')\n",
    "\n",
    "# Extract index from group and store in a dictionary, key is country name and data is list of years\n",
    "years_won = {country: group.index.to_list() for country, group in winning_group}\n",
    "\n",
    "# Convert years_won to a series that I will later concat with runnners_winners_merged\n",
    "years_won = pd.Series(years_won)\n",
    "years_won.name = 'Years won'\n",
    "\n",
    "# Repeat for runners up\n",
    "runners_up_group = finals_tabel_useful.groupby('Runners-up')\n",
    "years_runners_up = {country: group.index.to_list() for country, group in runners_up_group}\n",
    "years_runners_up = pd.Series(years_runners_up, name='Years runners-up')\n",
    "print(years_runners_up)"
   ]
  },
  {
   "cell_type": "code",
   "execution_count": 21,
   "metadata": {},
   "outputs": [
    {
     "name": "stdout",
     "output_type": "stream",
     "text": [
      "                Won  Runnner Up  finals                       Years won  \\\n",
      "Argentina       2.0         3.0     5.0                    [1978, 1986]   \n",
      "Brazil          5.0         2.0     7.0  [1958, 1962, 1970, 1994, 2002]   \n",
      "England         1.0         NaN     1.0                          [1966]   \n",
      "France          2.0         1.0     3.0                    [1998, 2018]   \n",
      "Germany         4.0         4.0     8.0        [1954, 1974, 1990, 2014]   \n",
      "Italy           4.0         2.0     6.0        [1934, 1938, 1982, 2006]   \n",
      "Spain           1.0         NaN     1.0                          [2010]   \n",
      "Uruguay         2.0         NaN     2.0                    [1930, 1950]   \n",
      "Croatia         NaN         1.0     1.0                             NaN   \n",
      "Czechoslovakia  NaN         2.0     2.0                             NaN   \n",
      "Hungary         NaN         2.0     2.0                             NaN   \n",
      "Netherlands     NaN         3.0     3.0                             NaN   \n",
      "Sweden          NaN         1.0     1.0                             NaN   \n",
      "\n",
      "                        Years runners-up  \n",
      "Argentina             [1930, 1990, 2014]  \n",
      "Brazil                      [1950, 1998]  \n",
      "England                              NaN  \n",
      "France                            [2006]  \n",
      "Germany         [1966, 1982, 1986, 2002]  \n",
      "Italy                       [1970, 1994]  \n",
      "Spain                                NaN  \n",
      "Uruguay                              NaN  \n",
      "Croatia                           [2018]  \n",
      "Czechoslovakia              [1934, 1962]  \n",
      "Hungary                     [1938, 1954]  \n",
      "Netherlands           [1974, 1978, 2010]  \n",
      "Sweden                            [1958]  \n"
     ]
    }
   ],
   "source": [
    "# Concatenate runners_winners_merged with years_won and years_runner_up\n",
    "results_by_nation = pd.concat([runners_winners_merged, years_won, years_runners_up], axis=1, join='outer')\n",
    "print(results_by_nation)"
   ]
  }
 ],
 "metadata": {
  "kernelspec": {
   "display_name": "Python 3.8.10 ('datasciencestar': venv)",
   "language": "python",
   "name": "python3"
  },
  "language_info": {
   "codemirror_mode": {
    "name": "ipython",
    "version": 3
   },
   "file_extension": ".py",
   "mimetype": "text/x-python",
   "name": "python",
   "nbconvert_exporter": "python",
   "pygments_lexer": "ipython3",
   "version": "3.8.10"
  },
  "orig_nbformat": 4,
  "vscode": {
   "interpreter": {
    "hash": "51c9cea8a4711522a4bf8b45c200e690e948b7adecc3dbdd4ef9333c51e9d22c"
   }
  }
 },
 "nbformat": 4,
 "nbformat_minor": 2
}
