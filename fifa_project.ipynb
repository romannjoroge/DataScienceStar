{
 "cells": [
  {
   "cell_type": "markdown",
   "metadata": {},
   "source": [
    "<h1>FIFA Project</h1>\n",
    "<h3>Goal</h3>\n",
    "<p>To scrape world cup data from wikipedia and plot them as many various plots</p>"
   ]
  },
  {
   "cell_type": "code",
   "execution_count": 2,
   "metadata": {},
   "outputs": [
    {
     "name": "stdout",
     "output_type": "stream",
     "text": [
      "              Year          Winners                 Score[2]       Runners-up  \\\n",
      "0             1998           France                      3–0           Brazil   \n",
      "1             2002           Brazil                      2–0          Germany   \n",
      "2             2006            Italy  1–1 (a.e.t.) (5–3 pen.)           France   \n",
      "3             2010            Spain             1–0 (a.e.t.)      Netherlands   \n",
      "4             2014          Germany             1–0 (a.e.t.)        Argentina   \n",
      "5             2018           France                      4–2          Croatia   \n",
      "6  Upcoming finals  Upcoming finals          Upcoming finals  Upcoming finals   \n",
      "7             Year        Finalists                    Match        Finalists   \n",
      "8             2022              NaN                        v              NaN   \n",
      "9             2026              NaN                        v              NaN   \n",
      "\n",
      "                   Venue                     Location       Attendance  \\\n",
      "0        Stade de France  Saint-Denis (Paris), France            75000   \n",
      "1  International Stadium              Yokohama, Japan            69029   \n",
      "2         Olympiastadion              Berlin, Germany            69000   \n",
      "3            Soccer City   Johannesburg, South Africa            84490   \n",
      "4       Maracanã Stadium       Rio de Janeiro, Brazil            74738   \n",
      "5       Luzhniki Stadium               Moscow, Russia            78011   \n",
      "6        Upcoming finals              Upcoming finals  Upcoming finals   \n",
      "7                  Venue                     Location       Attendance   \n",
      "8  Lusail Iconic Stadium         Lusail (Doha), Qatar              NaN   \n",
      "9                    TBA                          TBA              NaN   \n",
      "\n",
      "              Refs  \n",
      "0           [7][8]  \n",
      "1          [9][10]  \n",
      "2         [11][12]  \n",
      "3         [13][14]  \n",
      "4         [15][16]  \n",
      "5         [17][18]  \n",
      "6  Upcoming finals  \n",
      "7             Refs  \n",
      "8              NaN  \n",
      "9              NaN  \n"
     ]
    }
   ],
   "source": [
    "# Wikipedia article is List of FIFA World Cup finals\n",
    "import pandas as pd\n",
    "import numpy as np\n",
    "\n",
    "# Scraped all the tables in the fifa winners wiki page and stored them in a list\n",
    "tables = pd.read_html('https://en.wikipedia.org/wiki/List_of_FIFA_World_Cup_finals')\n",
    "\n",
    "# Get the list of FIFA finals table\n",
    "fifa_tables = tables[3]\n",
    "print(fifa_tables)\n"
   ]
  },
  {
   "cell_type": "code",
   "execution_count": 3,
   "metadata": {},
   "outputs": [
    {
     "name": "stdout",
     "output_type": "stream",
     "text": [
      "      Winners   Runners-up\n",
      "Year                      \n",
      "1998   France       Brazil\n",
      "2002   Brazil      Germany\n",
      "2006    Italy       France\n",
      "2010    Spain  Netherlands\n",
      "2014  Germany    Argentina\n",
      "2018   France      Croatia\n"
     ]
    }
   ],
   "source": [
    "# Getting a copy of the list of finals table to work with\n",
    "finals_tabel = fifa_tables.copy()\n",
    "\n",
    "# Changing the index of finals_table to year\n",
    "finals_tabel.set_index('Year', inplace=True)\n",
    "\n",
    "# Reindexing to get necessary tables: Winners and Runners-up\n",
    "finals_tabel_useful = finals_tabel.reindex(columns=['Winners', 'Runners-up'])\n",
    "\n",
    "# Removing unnecessary rows: Upcoming finals, Year, 2022, 2026\n",
    "finals_tabel_useful = finals_tabel_useful.drop(index=['Upcoming finals', 'Year', '2022', '2026'])\n",
    "\n",
    "# Since West and East Germany combined to from Germany we replace West Germany with Germany\n",
    "finals_tabel_useful.replace('West Germany', 'Germany', inplace=True)\n",
    "print(finals_tabel_useful)"
   ]
  },
  {
   "cell_type": "code",
   "execution_count": 4,
   "metadata": {},
   "outputs": [
    {
     "name": "stdout",
     "output_type": "stream",
     "text": [
      "   Code             Association                  National teams    Founded  \\\n",
      "0   ALB                 Albania  Men'sU21U19U17FBSWomen'sU19U17       1930   \n",
      "1   AND                 Andorra  Men'sU21U19U17FBSWomen'sU19U17       1994   \n",
      "2   ARM                 Armenia  Men'sU21U19U17FBSWomen'sU19U17       1992   \n",
      "3   AUT                 Austria  Men'sU21U19U17FBSWomen'sU19U17       1904   \n",
      "4   AZE              Azerbaijan  Men'sU21U19U17FBSWomen'sU19U17       1992   \n",
      "5   BLR                 Belarus  Men'sU21U19U17FBSWomen'sU19U17       1989   \n",
      "6   BEL                 Belgium  Men'sU21U19U17FBSWomen'sU19U17       1895   \n",
      "7   BIH  Bosnia and Herzegovina  Men'sU21U19U17FBSWomen'sU19U17       1946   \n",
      "8   BUL                Bulgaria  Men'sU21U19U17FBSWomen'sU19U17       1923   \n",
      "9   CRO                 Croatia  Men'sU21U19U17FBSWomen'sU19U17       1912   \n",
      "10  CYP                  Cyprus  Men'sU21U19U17FBSWomen'sU19U17       1934   \n",
      "11  CZE          Czech Republic  Men'sU21U19U17FBSWomen'sU19U17       1901   \n",
      "12  DEN                 Denmark  Men'sU21U19U17FBSWomen'sU19U17       1889   \n",
      "13  ENG                 England  Men'sU21U19U17FBSWomen'sU19U17       1863   \n",
      "14  EST                 Estonia  Men'sU21U19U17FBSWomen'sU19U17       1921   \n",
      "15  FRO           Faroe Islands  Men'sU21U19U17FBSWomen'sU19U17       1979   \n",
      "16  FIN                 Finland  Men'sU21U19U17FBSWomen'sU19U17       1907   \n",
      "17  FRA                  France  Men'sU21U19U17FBSWomen'sU19U17  1919[n 2]   \n",
      "18  GEO                 Georgia  Men'sU21U19U17FBSWomen'sU19U17       1990   \n",
      "19  GER                 Germany  Men'sU21U19U17FBSWomen'sU19U17       1900   \n",
      "20  GIB               Gibraltar  Men'sU21U19U17FBSWomen'sU19U17       1895   \n",
      "21  GRE                  Greece  Men'sU21U19U17FBSWomen'sU19U17       1926   \n",
      "22  HUN                 Hungary  Men'sU21U19U17FBSWomen'sU19U17       1901   \n",
      "23  ISL                 Iceland  Men'sU21U19U17FBSWomen'sU19U17  1947[n 4]   \n",
      "24  ISR             Israel[n 5]  Men'sU21U19U17FBSWomen'sU19U17       1928   \n",
      "25  ITA                   Italy  Men'sU21U19U17FBSWomen'sU19U17       1898   \n",
      "26  KAZ         Kazakhstan[n 7]  Men'sU21U19U17FBSWomen'sU19U17       1994   \n",
      "27  KOS                  Kosovo  Men'sU21U19U17FBSWomen'sU19U17       2008   \n",
      "28  LVA                  Latvia  Men'sU21U19U17FBSWomen'sU19U17       1921   \n",
      "29  LIE           Liechtenstein  Men'sU21U19U17FBSWomen'sU19U17       1934   \n",
      "30  LTU               Lithuania  Men'sU21U19U17FBSWomen'sU19U17       1922   \n",
      "31  LUX              Luxembourg  Men'sU21U19U17FBSWomen'sU19U17       1908   \n",
      "32  MLT                   Malta  Men'sU21U19U17FBSWomen'sU19U17       1900   \n",
      "33  MDA                 Moldova  Men'sU21U19U17FBSWomen'sU19U17       1990   \n",
      "34  MNE              Montenegro  Men'sU21U19U17FBSWomen'sU19U17       1931   \n",
      "35  NED             Netherlands  Men'sU21U19U17FBSWomen'sU19U17       1889   \n",
      "36  MKD         North Macedonia  Men'sU21U19U17FBSWomen'sU19U17       1926   \n",
      "37  NIR        Northern Ireland  Men'sU21U19U17FBSWomen'sU19U17       1880   \n",
      "38  NOR                  Norway  Men'sU21U19U17FBSWomen'sU19U17       1902   \n",
      "39  POL                  Poland  Men'sU21U19U17FBSWomen'sU19U17  1919[n 9]   \n",
      "40  POR                Portugal  Men'sU21U19U17FBSWomen'sU19U17       1914   \n",
      "41  IRL     Republic of Ireland  Men'sU21U19U17FBSWomen'sU19U17       1921   \n",
      "42  ROU                 Romania  Men'sU21U19U17FBSWomen'sU19U17       1909   \n",
      "43  RUS                  Russia  Men'sU21U19U17FBSWomen'sU19U17       1912   \n",
      "44  SMR              San Marino  Men'sU21U19U17FBSWomen'sU19U17       1931   \n",
      "45  SCO                Scotland  Men'sU21U19U17FBSWomen'sU19U17       1873   \n",
      "46  SRB                  Serbia  Men'sU21U19U17FBSWomen'sU19U17       1919   \n",
      "47  SVK                Slovakia  Men'sU21U19U17FBSWomen'sU19U17       1938   \n",
      "48  SVN                Slovenia  Men'sU21U19U17FBSWomen'sU19U17       1920   \n",
      "49  ESP                   Spain  Men'sU21U19U17FBSWomen'sU19U17       1909   \n",
      "50  SWE                  Sweden  Men'sU21U19U17FBSWomen'sU19U17       1904   \n",
      "51  SUI             Switzerland  Men'sU21U19U17FBSWomen'sU19U17       1895   \n",
      "52  TUR                  Turkey  Men'sU21U19U17FBSWomen'sU19U17       1923   \n",
      "53  UKR                 Ukraine  Men'sU21U19U17FBSWomen'sU19U17       1991   \n",
      "54  WAL                   Wales  Men'sU21U19U17FBSWomen'sU19U17       1876   \n",
      "\n",
      "   FIFA affiliation UEFA affiliation IOC member  \n",
      "0              1932             1954        Yes  \n",
      "1              1996             1996        Yes  \n",
      "2              1992             1992        Yes  \n",
      "3              1905             1954        Yes  \n",
      "4              1994             1994        Yes  \n",
      "5              1992             1993        Yes  \n",
      "6              1904             1954        Yes  \n",
      "7              1996             1998        Yes  \n",
      "8              1924             1954        Yes  \n",
      "9              1992             1993        Yes  \n",
      "10             1948             1962        Yes  \n",
      "11             1907             1954        Yes  \n",
      "12             1904             1954        Yes  \n",
      "13             1905             1954    No[n 1]  \n",
      "14             1923             1992        Yes  \n",
      "15             1988             1990         No  \n",
      "16             1908             1954        Yes  \n",
      "17        1904[n 3]             1954        Yes  \n",
      "18             1992             1992        Yes  \n",
      "19             1904             1954        Yes  \n",
      "20             2016             2013         No  \n",
      "21             1927             1954        Yes  \n",
      "22             1906             1954        Yes  \n",
      "23             1947             1954        Yes  \n",
      "24             1929        1994[n 6]        Yes  \n",
      "25             1905             1954        Yes  \n",
      "26             1994             2002   Yes[n 8]  \n",
      "27             2016             2016        Yes  \n",
      "28             1922             1992        Yes  \n",
      "29             1974             1974        Yes  \n",
      "30             1923             1992        Yes  \n",
      "31             1910             1954        Yes  \n",
      "32             1959             1960        Yes  \n",
      "33             1994             1993        Yes  \n",
      "34             2007             2007        Yes  \n",
      "35             1904             1954        Yes  \n",
      "36             1994             1994        Yes  \n",
      "37             1911             1954    No[n 1]  \n",
      "38             1908             1954        Yes  \n",
      "39             1923             1954        Yes  \n",
      "40             1923             1954        Yes  \n",
      "41             1923             1954        Yes  \n",
      "42             1923             1954        Yes  \n",
      "43             1912             1954        Yes  \n",
      "44             1988             1988        Yes  \n",
      "45             1910             1954    No[n 1]  \n",
      "46             1921             1954        Yes  \n",
      "47             1994             1993        Yes  \n",
      "48             1992             1992        Yes  \n",
      "49             1904             1954        Yes  \n",
      "50             1904             1954        Yes  \n",
      "51             1904             1954        Yes  \n",
      "52             1923             1962        Yes  \n",
      "53             1992             1992        Yes  \n",
      "54             1910             1954    No[n 1]  \n"
     ]
    }
   ],
   "source": [
    "# Importing UEFA association information\n",
    "uefa_list = pd.read_html('https://en.wikipedia.org/wiki/UEFA')\n",
    "\n",
    "# Isolating UEFA member country table\n",
    "uefa = uefa_list[3].copy()\n",
    "print(uefa)"
   ]
  },
  {
   "cell_type": "code",
   "execution_count": 5,
   "metadata": {},
   "outputs": [
    {
     "name": "stdout",
     "output_type": "stream",
     "text": [
      "  Association Code\n",
      "0     Albania  ALB\n",
      "1     Andorra  AND\n",
      "2     Armenia  ARM\n",
      "3     Austria  AUT\n",
      "4  Azerbaijan  AZE\n"
     ]
    }
   ],
   "source": [
    "# Get useful columns from uefa\n",
    "uefa_useful = uefa.reindex(columns=['Association', 'Code'])\n",
    "print(uefa_useful.head())"
   ]
  },
  {
   "cell_type": "code",
   "execution_count": 6,
   "metadata": {},
   "outputs": [],
   "source": [
    "# Getting CONMEBOL information\n",
    "conmebol_tables = pd.read_html('https://en.wikipedia.org/wiki/CONMEBOL')\n",
    "\n",
    "# Isolating table with country and country code information\n",
    "conmebol = conmebol_tables[4].copy()"
   ]
  },
  {
   "cell_type": "code",
   "execution_count": 7,
   "metadata": {},
   "outputs": [
    {
     "name": "stdout",
     "output_type": "stream",
     "text": [
      "  Association Code\n",
      "0   Argentina  ARG\n",
      "1     Bolivia  BOL\n",
      "2      Brazil  BRA\n",
      "3       Chile  CHI\n",
      "4    Colombia  COL\n",
      "5     Ecuador  ECU\n",
      "6    Paraguay  PAR\n",
      "7        Peru  PER\n",
      "8     Uruguay  URU\n",
      "9   Venezuela  VEN\n"
     ]
    }
   ],
   "source": [
    "# Reindexing to only have Association and Code columns\n",
    "conmebol_useful = conmebol.reindex(columns=['Association', 'Code'])\n",
    "print(conmebol_useful)"
   ]
  },
  {
   "cell_type": "code",
   "execution_count": 8,
   "metadata": {},
   "outputs": [
    {
     "name": "stdout",
     "output_type": "stream",
     "text": [
      "   Association      Country Code\n",
      "0         UEFA    Argentina  ARG\n",
      "1         UEFA      Bolivia  BOL\n",
      "2         UEFA       Brazil  BRA\n",
      "3         UEFA        Chile  CHI\n",
      "4         UEFA     Colombia  COL\n",
      "..         ...          ...  ...\n",
      "60    CONMEBOL       Sweden  SWE\n",
      "61    CONMEBOL  Switzerland  SUI\n",
      "62    CONMEBOL       Turkey  TUR\n",
      "63    CONMEBOL      Ukraine  UKR\n",
      "64    CONMEBOL        Wales  WAL\n",
      "\n",
      "[65 rows x 3 columns]\n"
     ]
    }
   ],
   "source": [
    "# Concatenate the 2 association dataframes along index\n",
    "associations = pd.concat([conmebol_useful, uefa_useful], keys=['UEFA', 'CONMEBOL'])\n",
    "\n",
    "# I reset the index so that each entry will have the association it belongs to\n",
    "associations.reset_index(inplace=True)\n",
    "\n",
    "# Remove unnecesary columns\n",
    "associations = associations.drop(columns=['level_1'])\n",
    "\n",
    "# Renaming columns to more sensible names\n",
    "associations.rename(columns={\n",
    "    'level_0':'Association',\n",
    "    'Association': 'Country'\n",
    "}, inplace=True)\n",
    "print(associations)"
   ]
  },
  {
   "cell_type": "code",
   "execution_count": 9,
   "metadata": {},
   "outputs": [],
   "source": [
    "# Convert associations table to a CSV file\n",
    "associations.to_csv('associations.csv')"
   ]
  },
  {
   "cell_type": "code",
   "execution_count": 10,
   "metadata": {},
   "outputs": [
    {
     "name": "stdout",
     "output_type": "stream",
     "text": [
      "         Winners                 Runners Up                 \n",
      "     Association  Country Code      Country Association Code\n",
      "Year                                                        \n",
      "1998    CONMEBOL   France  FRA       Brazil        UEFA  BRA\n",
      "2002        UEFA   Brazil  BRA      Germany    CONMEBOL  GER\n",
      "2006    CONMEBOL    Italy  ITA       France    CONMEBOL  FRA\n",
      "2010    CONMEBOL    Spain  ESP  Netherlands    CONMEBOL  NED\n",
      "2014    CONMEBOL  Germany  GER    Argentina        UEFA  ARG\n",
      "2018    CONMEBOL   France  FRA      Croatia    CONMEBOL  CRO\n"
     ]
    }
   ],
   "source": [
    "# Merge finals_table_useful and associations to form winners table that has the countries that won the world cup and their country code\n",
    "winners_merged = pd.merge(finals_tabel_useful, associations, left_on='Winners', right_on='Country', how='left')\n",
    "winners_merged = winners_merged.drop(columns=['Runners-up', 'Winners'])\n",
    "\n",
    "# Repeat to get runners up table with country and code\n",
    "runners_up_merged = pd.merge(finals_tabel_useful, associations, how='left', left_on='Runners-up', right_on='Country')\n",
    "runners_up_merged = runners_up_merged.drop(columns=['Winners', 'Country'])\n",
    "\n",
    "# Renaming runners-up column to Country\n",
    "runners_up_merged.rename(columns={\n",
    "    'Runners-up': 'Country'\n",
    "}, inplace=True)\n",
    "\n",
    "# Concatenate the winners and runners-up dataframes\n",
    "finals_concatenated = pd.concat([winners_merged, runners_up_merged], axis=1, keys=['Winners', 'Runners Up'])\n",
    "\n",
    "# Setting years as index of finals_concatenated\n",
    "finals_concatenated.index = finals_tabel_useful.index\n",
    "print(finals_concatenated)"
   ]
  },
  {
   "cell_type": "code",
   "execution_count": 11,
   "metadata": {},
   "outputs": [],
   "source": [
    "finals_concatenated.to_csv('finals_concatenated.csv')"
   ]
  },
  {
   "cell_type": "code",
   "execution_count": 12,
   "metadata": {},
   "outputs": [
    {
     "name": "stdout",
     "output_type": "stream",
     "text": [
      "             Won  Runnner Up  finals\n",
      "Country                             \n",
      "Brazil       1.0         1.0     2.0\n",
      "France       2.0         1.0     3.0\n",
      "Germany      1.0         1.0     2.0\n",
      "Italy        1.0         0.0     1.0\n",
      "Spain        1.0         0.0     1.0\n",
      "Argentina    0.0         1.0     1.0\n",
      "Croatia      0.0         1.0     1.0\n",
      "Netherlands  0.0         1.0     1.0\n"
     ]
    }
   ],
   "source": [
    "# Grouping winners_merged and runners_up_merged by Country\n",
    "winners_group = winners_merged.groupby('Country')\n",
    "runners_group = runners_up_merged.groupby('Country')\n",
    "\n",
    "# Getting size of the groups and storing in df\n",
    "number_won = winners_group.size()\n",
    "number_runner_up = runners_group.size()\n",
    "number_won.name = 'Won'\n",
    "number_runner_up.name = 'Runnner Up'\n",
    "\n",
    "# Concatenating the 2 dataframes\n",
    "runners_winners_merged = pd.concat([number_won, number_runner_up], join='outer', axis=1)\n",
    "runners_winners_merged['finals'] = runners_winners_merged.sum(axis=1)\n",
    "runners_winners_merged = runners_winners_merged.fillna(0)\n",
    "print(runners_winners_merged)\n",
    "# print(number_won, number_runner_up, sep='\\n')"
   ]
  },
  {
   "cell_type": "code",
   "execution_count": 13,
   "metadata": {},
   "outputs": [],
   "source": [
    "runners_winners_merged.to_csv('finals_data.csv')"
   ]
  },
  {
   "cell_type": "code",
   "execution_count": 14,
   "metadata": {},
   "outputs": [
    {
     "name": "stdout",
     "output_type": "stream",
     "text": [
      "      Winners   Runners-up\n",
      "Year                      \n",
      "1998   France       Brazil\n",
      "2002   Brazil      Germany\n",
      "2006    Italy       France\n",
      "2010    Spain  Netherlands\n",
      "2014  Germany    Argentina\n",
      "2018   France      Croatia\n",
      "Argentina      [2014]\n",
      "Brazil         [1998]\n",
      "Croatia        [2018]\n",
      "France         [2006]\n",
      "Germany        [2002]\n",
      "Netherlands    [2010]\n",
      "Name: Years runners-up, dtype: object\n"
     ]
    }
   ],
   "source": [
    "# Have final_tables_useful - winning country, runners up and year. I want to get years won for every country and years runner up for every county\n",
    "print(finals_tabel_useful)\n",
    "# Group df by winning column to get info per country\n",
    "winning_group = finals_tabel_useful.groupby('Winners')\n",
    "\n",
    "# Extract index from group and store in a dictionary, key is country name and data is list of years\n",
    "years_won = {country: group.index.to_list() for country, group in winning_group}\n",
    "\n",
    "# Convert years_won to a series that I will later concat with runnners_winners_merged\n",
    "years_won = pd.Series(years_won)\n",
    "years_won.name = 'Years won'\n",
    "\n",
    "# Repeat for runners up\n",
    "runners_up_group = finals_tabel_useful.groupby('Runners-up')\n",
    "years_runners_up = {country: group.index.to_list() for country, group in runners_up_group}\n",
    "years_runners_up = pd.Series(years_runners_up, name='Years runners-up')\n",
    "print(years_runners_up)"
   ]
  },
  {
   "cell_type": "code",
   "execution_count": 15,
   "metadata": {},
   "outputs": [
    {
     "name": "stdout",
     "output_type": "stream",
     "text": [
      "             Won  Runnner Up  finals     Years won Years runners-up\n",
      "Brazil       1.0         1.0     2.0        [2002]           [1998]\n",
      "France       2.0         1.0     3.0  [1998, 2018]           [2006]\n",
      "Germany      1.0         1.0     2.0        [2014]           [2002]\n",
      "Italy        1.0         0.0     1.0        [2006]              NaN\n",
      "Spain        1.0         0.0     1.0        [2010]              NaN\n",
      "Argentina    0.0         1.0     1.0           NaN           [2014]\n",
      "Croatia      0.0         1.0     1.0           NaN           [2018]\n",
      "Netherlands  0.0         1.0     1.0           NaN           [2010]\n"
     ]
    }
   ],
   "source": [
    "# Concatenate runners_winners_merged with years_won and years_runner_up\n",
    "results_by_nation = pd.concat([runners_winners_merged, years_won, years_runners_up], axis=1, join='outer')\n",
    "print(results_by_nation)"
   ]
  },
  {
   "cell_type": "code",
   "execution_count": 16,
   "metadata": {},
   "outputs": [],
   "source": [
    "results_by_nation.to_csv('results_by_nation.csv')"
   ]
  },
  {
   "cell_type": "code",
   "execution_count": 21,
   "metadata": {},
   "outputs": [
    {
     "data": {
      "image/png": "[encoded data removed]",
      "text/plain": [
       "<Figure size 640x480 with 1 Axes>"
      ]
     },
     "metadata": {},
     "output_type": "display_data"
    },
    {
     "data": {
      "text/plain": [
       "<Figure size 640x480 with 0 Axes>"
      ]
     },
     "metadata": {},
     "output_type": "display_data"
    }
   ],
   "source": [
    "# A horizontal bar to show distribution of Fifa Winners\n",
    "from matplotlib import pyplot as plt\n",
    "plt.style.use('ggplot')\n",
    "countries_won = results_by_nation.loc[results_by_nation.Won > 0]\n",
    "\n",
    "fig1, ax1 = plt.subplots()\n",
    "\n",
    "ax1.barh(countries_won.index, countries_won.Won, color='g')\n",
    "\n",
    "ax1.set_title('Distribution of FIFA Wins')\n",
    "ax1.set_xlabel('No. of wins')\n",
    "ax1.set_xticks(ticks=[0, 1, 2], labels=[0, 1, 2])\n",
    "\n",
    "\n",
    "plt.show()\n",
    "plt.clf()"
   ]
  },
  {
   "cell_type": "code",
   "execution_count": null,
   "metadata": {},
   "outputs": [
    {
     "data": {
      "text/plain": [
       "['Solarize_Light2',\n",
       " '_classic_test_patch',\n",
       " '_mpl-gallery',\n",
       " '_mpl-gallery-nogrid',\n",
       " 'bmh',\n",
       " 'classic',\n",
       " 'dark_background',\n",
       " 'fast',\n",
       " 'fivethirtyeight',\n",
       " 'ggplot',\n",
       " 'grayscale',\n",
       " 'seaborn',\n",
       " 'seaborn-bright',\n",
       " 'seaborn-colorblind',\n",
       " 'seaborn-dark',\n",
       " 'seaborn-dark-palette',\n",
       " 'seaborn-darkgrid',\n",
       " 'seaborn-deep',\n",
       " 'seaborn-muted',\n",
       " 'seaborn-notebook',\n",
       " 'seaborn-paper',\n",
       " 'seaborn-pastel',\n",
       " 'seaborn-poster',\n",
       " 'seaborn-talk',\n",
       " 'seaborn-ticks',\n",
       " 'seaborn-white',\n",
       " 'seaborn-whitegrid',\n",
       " 'tableau-colorblind10']"
      ]
     },
     "execution_count": 25,
     "metadata": {},
     "output_type": "execute_result"
    }
   ],
   "source": [
    "plt.style.available"
   ]
  }
 ],
 "metadata": {
  "kernelspec": {
   "display_name": "Python 3.8.10 ('datasciencestar': venv)",
   "language": "python",
   "name": "python3"
  },
  "language_info": {
   "codemirror_mode": {
    "name": "ipython",
    "version": 3
   },
   "file_extension": ".py",
   "mimetype": "text/x-python",
   "name": "python",
   "nbconvert_exporter": "python",
   "pygments_lexer": "ipython3",
   "version": "3.8.10"
  },
  "orig_nbformat": 4,
  "vscode": {
   "interpreter": {
    "hash": "51c9cea8a4711522a4bf8b45c200e690e948b7adecc3dbdd4ef9333c51e9d22c"
   }
  }
 },
 "nbformat": 4,
 "nbformat_minor": 2
}
