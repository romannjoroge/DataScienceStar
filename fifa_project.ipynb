{
 "cells": [
  {
   "cell_type": "markdown",
   "metadata": {},
   "source": [
    "<h1>FIFA Project</h1>\n",
    "<h3>Goal</h3>\n",
    "<p>To scrape world cup data from wikipedia and plot them as many various plots</p>"
   ]
  },
  {
   "cell_type": "code",
   "execution_count": 8,
   "metadata": {},
   "outputs": [
    {
     "name": "stdout",
     "output_type": "stream",
     "text": [
      "<class 'list'>\n",
      "               Year          Winners                 Score[2]  \\\n",
      "0              1930          Uruguay                      4–2   \n",
      "1              1934            Italy             2–1 (a.e.t.)   \n",
      "2              1938            Italy                      4–2   \n",
      "3              1950          Uruguay                2–1 [n 3]   \n",
      "4              1954     West Germany                      3–2   \n",
      "5              1958           Brazil                      5–2   \n",
      "6              1962           Brazil                      3–1   \n",
      "7              1966          England             4–2 (a.e.t.)   \n",
      "8              1970           Brazil                      4–1   \n",
      "9              1974     West Germany                      2–1   \n",
      "10             1978        Argentina             3–1 (a.e.t.)   \n",
      "11             1982            Italy                      3–1   \n",
      "12             1986        Argentina                      3–2   \n",
      "13             1990     West Germany                      1–0   \n",
      "14             1994           Brazil  0–0 (a.e.t.) (3–2 pen.)   \n",
      "15             1998           France                      3–0   \n",
      "16             2002           Brazil                      2–0   \n",
      "17             2006            Italy  1–1 (a.e.t.) (5–3 pen.)   \n",
      "18             2010            Spain             1–0 (a.e.t.)   \n",
      "19             2014          Germany             1–0 (a.e.t.)   \n",
      "20             2018           France                      4–2   \n",
      "21  Upcoming finals  Upcoming finals          Upcoming finals   \n",
      "22             Year        Finalists                    Match   \n",
      "23             2022              NaN                        v   \n",
      "24             2026              NaN                        v   \n",
      "\n",
      "         Runners-up                        Venue  \\\n",
      "0         Argentina           Estadio Centenario   \n",
      "1    Czechoslovakia         Stadio Nazionale PNF   \n",
      "2           Hungary  Stade Olympique de Colombes   \n",
      "3            Brazil             Maracanã Stadium   \n",
      "4           Hungary             Wankdorf Stadium   \n",
      "5            Sweden              Råsunda Stadium   \n",
      "6    Czechoslovakia             Estadio Nacional   \n",
      "7      West Germany              Wembley Stadium   \n",
      "8             Italy               Estadio Azteca   \n",
      "9       Netherlands               Olympiastadion   \n",
      "10      Netherlands           Estadio Monumental   \n",
      "11     West Germany            Santiago Bernabéu   \n",
      "12     West Germany               Estadio Azteca   \n",
      "13        Argentina              Stadio Olimpico   \n",
      "14            Italy                    Rose Bowl   \n",
      "15           Brazil              Stade de France   \n",
      "16          Germany        International Stadium   \n",
      "17           France               Olympiastadion   \n",
      "18      Netherlands                  Soccer City   \n",
      "19        Argentina             Maracanã Stadium   \n",
      "20          Croatia             Luzhniki Stadium   \n",
      "21  Upcoming finals              Upcoming finals   \n",
      "22        Finalists                        Venue   \n",
      "23              NaN        Lusail Iconic Stadium   \n",
      "24              NaN                          TBA   \n",
      "\n",
      "                                 Location       Attendance             Refs  \n",
      "0                     Montevideo, Uruguay            68346           [7][8]  \n",
      "1                             Rome, Italy            55000          [9][10]  \n",
      "2                Colombes (Paris), France            45000         [11][12]  \n",
      "3                  Rio de Janeiro, Brazil           173850         [13][14]  \n",
      "4                       Bern, Switzerland            62500         [15][16]  \n",
      "5               Solna (Stockholm), Sweden            51800         [17][18]  \n",
      "6                         Santiago, Chile            69000         [19][20]  \n",
      "7                         London, England            96924         [21][22]  \n",
      "8                     Mexico City, Mexico           107412         [23][24]  \n",
      "9                    Munich, West Germany            75200         [25][26]  \n",
      "10                Buenos Aires, Argentina            71483         [27][28]  \n",
      "11                          Madrid, Spain            90000         [29][30]  \n",
      "12                    Mexico City, Mexico           114600         [31][32]  \n",
      "13                            Rome, Italy            73603         [33][34]  \n",
      "14  Pasadena (Los Angeles), United States            94194         [35][36]  \n",
      "15            Saint-Denis (Paris), France            75000         [37][38]  \n",
      "16                        Yokohama, Japan            69029         [39][40]  \n",
      "17                        Berlin, Germany            69000         [41][42]  \n",
      "18             Johannesburg, South Africa            84490         [43][44]  \n",
      "19                 Rio de Janeiro, Brazil            74738         [45][46]  \n",
      "20                         Moscow, Russia            78011         [47][48]  \n",
      "21                        Upcoming finals  Upcoming finals  Upcoming finals  \n",
      "22                               Location       Attendance             Refs  \n",
      "23                   Lusail (Doha), Qatar              NaN              NaN  \n",
      "24                                    TBA              NaN              NaN  \n"
     ]
    }
   ],
   "source": [
    "# Wikipedia article is List of FIFA World Cup finals\n",
    "import pandas as pd\n",
    "\n",
    "# Scraped all the tables in the webpage and stored them in a list\n",
    "tables = pd.read_html('https://en.wikipedia.org/wiki/List_of_FIFA_World_Cup_finals')\n",
    "\n",
    "# This slice contains 3 tables: List of finals of the FIFA World Cup, Results by Nation, Results by confederation\n",
    "fifa_tables = tables[3:6]\n",
    "print(type(fifa_tables))\n",
    "print(fifa_tables[0])\n"
   ]
  },
  {
   "cell_type": "code",
   "execution_count": 12,
   "metadata": {},
   "outputs": [
    {
     "name": "stdout",
     "output_type": "stream",
     "text": [
      "                         Winners  Runners Up\n",
      "Year                                        \n",
      "1930                     Uruguay         NaN\n",
      "1934                       Italy         NaN\n",
      "1938                       Italy         NaN\n",
      "1950                     Uruguay         NaN\n",
      "1954                West Germany         NaN\n",
      "1958                      Brazil         NaN\n",
      "1962                      Brazil         NaN\n",
      "1966                     England         NaN\n",
      "1970                      Brazil         NaN\n",
      "1974                West Germany         NaN\n",
      "1978                   Argentina         NaN\n",
      "1982                       Italy         NaN\n",
      "1986                   Argentina         NaN\n",
      "1990                West Germany         NaN\n",
      "1994                      Brazil         NaN\n",
      "1998                      France         NaN\n",
      "2002                      Brazil         NaN\n",
      "2006                       Italy         NaN\n",
      "2010                       Spain         NaN\n",
      "2014                     Germany         NaN\n",
      "2018                      France         NaN\n",
      "Upcoming finals  Upcoming finals         NaN\n",
      "Year                   Finalists         NaN\n",
      "2022                         NaN         NaN\n",
      "2026                         NaN         NaN\n"
     ]
    }
   ],
   "source": [
    "# Try to reshape the list of finals of the FIFA World Cup to Results by Nation\n",
    "\n",
    "# Creating a standalone df for list of finals\n",
    "finals_df = fifa_tables[0].copy()\n",
    "\n",
    "# Setting index to Year column\n",
    "finals_df.set_index('Year', inplace=True)\n",
    "\n",
    "# Take the columns that I need from finals_df\n",
    "finals_df_useful = finals_df.reindex(columns=['Winners', 'Runners Up'])\n",
    "print(finals_df_useful)\n",
    "\n",
    "# Group by Winners and get info needed for Winners column and years won in Results by nation"
   ]
  }
 ],
 "metadata": {
  "kernelspec": {
   "display_name": "Python 3.8.10 ('datasciencestar': venv)",
   "language": "python",
   "name": "python3"
  },
  "language_info": {
   "codemirror_mode": {
    "name": "ipython",
    "version": 3
   },
   "file_extension": ".py",
   "mimetype": "text/x-python",
   "name": "python",
   "nbconvert_exporter": "python",
   "pygments_lexer": "ipython3",
   "version": "3.8.10"
  },
  "orig_nbformat": 4,
  "vscode": {
   "interpreter": {
    "hash": "51c9cea8a4711522a4bf8b45c200e690e948b7adecc3dbdd4ef9333c51e9d22c"
   }
  }
 },
 "nbformat": 4,
 "nbformat_minor": 2
}
